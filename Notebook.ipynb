{
 "cells": [
  {
   "cell_type": "code",
   "execution_count": 1,
   "metadata": {
    "execution": {
     "iopub.execute_input": "2025-07-17T06:00:05.137201Z",
     "iopub.status.busy": "2025-07-17T06:00:05.136522Z",
     "iopub.status.idle": "2025-07-17T06:01:26.893196Z",
     "shell.execute_reply": "2025-07-17T06:01:26.892460Z",
     "shell.execute_reply.started": "2025-07-17T06:00:05.137172Z"
    },
    "trusted": true
   },
   "outputs": [
    {
     "name": "stdout",
     "output_type": "stream",
     "text": [
      "Collecting nnsight\n",
      "  Downloading nnsight-0.4.8-py3-none-any.whl.metadata (15 kB)\n",
      "Collecting transformers (from nnsight)\n",
      "  Downloading transformers-4.53.2-py3-none-any.whl.metadata (40 kB)\n",
      "Requirement already satisfied: protobuf in /opt/conda/envs/py_3.12/lib/python3.12/site-packages (from nnsight) (3.20.2)\n",
      "Collecting python-socketio[client] (from nnsight)\n",
      "  Downloading python_socketio-5.13.0-py3-none-any.whl.metadata (3.2 kB)\n",
      "Collecting tokenizers>=0.13.0 (from nnsight)\n",
      "  Downloading tokenizers-0.21.2-cp39-abi3-manylinux_2_17_x86_64.manylinux2014_x86_64.whl.metadata (6.8 kB)\n",
      "Collecting pydantic>=2.9.0 (from nnsight)\n",
      "  Downloading pydantic-2.11.7-py3-none-any.whl.metadata (67 kB)\n",
      "Requirement already satisfied: torch>=2.4.0 in /opt/conda/envs/py_3.12/lib/python3.12/site-packages (from nnsight) (2.6.0+git684f6f2)\n",
      "Collecting sentencepiece (from nnsight)\n",
      "  Downloading sentencepiece-0.2.0-cp312-cp312-manylinux_2_17_x86_64.manylinux2014_x86_64.whl.metadata (7.7 kB)\n",
      "Requirement already satisfied: torchvision in /opt/conda/envs/py_3.12/lib/python3.12/site-packages (from nnsight) (0.21.0+4040d51)\n",
      "Collecting accelerate (from nnsight)\n",
      "  Downloading accelerate-1.9.0-py3-none-any.whl.metadata (19 kB)\n",
      "Collecting diffusers (from nnsight)\n",
      "  Downloading diffusers-0.34.0-py3-none-any.whl.metadata (20 kB)\n",
      "Collecting einops (from nnsight)\n",
      "  Downloading einops-0.8.1-py3-none-any.whl.metadata (13 kB)\n",
      "Collecting msgspec (from nnsight)\n",
      "  Downloading msgspec-0.19.0-cp312-cp312-manylinux_2_17_x86_64.manylinux2014_x86_64.whl.metadata (6.9 kB)\n",
      "Collecting toml (from nnsight)\n",
      "  Downloading toml-0.10.2-py2.py3-none-any.whl.metadata (7.1 kB)\n",
      "Requirement already satisfied: ipython in /opt/conda/envs/py_3.12/lib/python3.12/site-packages (from nnsight) (9.4.0)\n",
      "Collecting annotated-types>=0.6.0 (from pydantic>=2.9.0->nnsight)\n",
      "  Downloading annotated_types-0.7.0-py3-none-any.whl.metadata (15 kB)\n",
      "Collecting pydantic-core==2.33.2 (from pydantic>=2.9.0->nnsight)\n",
      "  Downloading pydantic_core-2.33.2-cp312-cp312-manylinux_2_17_x86_64.manylinux2014_x86_64.whl.metadata (6.8 kB)\n",
      "Requirement already satisfied: typing-extensions>=4.12.2 in /opt/conda/envs/py_3.12/lib/python3.12/site-packages (from pydantic>=2.9.0->nnsight) (4.12.2)\n",
      "Collecting typing-inspection>=0.4.0 (from pydantic>=2.9.0->nnsight)\n",
      "  Downloading typing_inspection-0.4.1-py3-none-any.whl.metadata (2.6 kB)\n",
      "Collecting huggingface-hub<1.0,>=0.16.4 (from tokenizers>=0.13.0->nnsight)\n",
      "  Downloading huggingface_hub-0.33.4-py3-none-any.whl.metadata (14 kB)\n",
      "Requirement already satisfied: filelock in /opt/conda/envs/py_3.12/lib/python3.12/site-packages (from huggingface-hub<1.0,>=0.16.4->tokenizers>=0.13.0->nnsight) (3.18.0)\n",
      "Requirement already satisfied: fsspec>=2023.5.0 in /opt/conda/envs/py_3.12/lib/python3.12/site-packages (from huggingface-hub<1.0,>=0.16.4->tokenizers>=0.13.0->nnsight) (2025.5.0)\n",
      "Requirement already satisfied: packaging>=20.9 in /opt/conda/envs/py_3.12/lib/python3.12/site-packages (from huggingface-hub<1.0,>=0.16.4->tokenizers>=0.13.0->nnsight) (25.0)\n",
      "Requirement already satisfied: pyyaml>=5.1 in /opt/conda/envs/py_3.12/lib/python3.12/site-packages (from huggingface-hub<1.0,>=0.16.4->tokenizers>=0.13.0->nnsight) (6.0.2)\n",
      "Requirement already satisfied: requests in /opt/conda/envs/py_3.12/lib/python3.12/site-packages (from huggingface-hub<1.0,>=0.16.4->tokenizers>=0.13.0->nnsight) (2.32.3)\n",
      "Requirement already satisfied: tqdm>=4.42.1 in /opt/conda/envs/py_3.12/lib/python3.12/site-packages (from huggingface-hub<1.0,>=0.16.4->tokenizers>=0.13.0->nnsight) (4.67.1)\n",
      "Collecting hf-xet<2.0.0,>=1.1.2 (from huggingface-hub<1.0,>=0.16.4->tokenizers>=0.13.0->nnsight)\n",
      "  Downloading hf_xet-1.1.5-cp37-abi3-manylinux_2_17_x86_64.manylinux2014_x86_64.whl.metadata (879 bytes)\n",
      "Requirement already satisfied: setuptools in /opt/conda/envs/py_3.12/lib/python3.12/site-packages (from torch>=2.4.0->nnsight) (80.1.0)\n",
      "Requirement already satisfied: sympy==1.13.1 in /opt/conda/envs/py_3.12/lib/python3.12/site-packages (from torch>=2.4.0->nnsight) (1.13.1)\n",
      "Requirement already satisfied: networkx in /opt/conda/envs/py_3.12/lib/python3.12/site-packages (from torch>=2.4.0->nnsight) (2.8.8)\n",
      "Requirement already satisfied: jinja2 in /opt/conda/envs/py_3.12/lib/python3.12/site-packages (from torch>=2.4.0->nnsight) (3.1.4)\n",
      "Requirement already satisfied: mpmath<1.4,>=1.1.0 in /opt/conda/envs/py_3.12/lib/python3.12/site-packages (from sympy==1.13.1->torch>=2.4.0->nnsight) (1.3.0)\n",
      "Requirement already satisfied: numpy<3.0.0,>=1.17 in /opt/conda/envs/py_3.12/lib/python3.12/site-packages (from accelerate->nnsight) (1.26.2)\n",
      "Requirement already satisfied: psutil in /opt/conda/envs/py_3.12/lib/python3.12/site-packages (from accelerate->nnsight) (7.0.0)\n",
      "Collecting safetensors>=0.4.3 (from accelerate->nnsight)\n",
      "  Downloading safetensors-0.5.3-cp38-abi3-manylinux_2_17_x86_64.manylinux2014_x86_64.whl.metadata (3.8 kB)\n",
      "Requirement already satisfied: importlib_metadata in /opt/conda/envs/py_3.12/lib/python3.12/site-packages (from diffusers->nnsight) (8.7.0)\n",
      "Collecting regex!=2019.12.17 (from diffusers->nnsight)\n",
      "  Downloading regex-2024.11.6-cp312-cp312-manylinux_2_17_x86_64.manylinux2014_x86_64.whl.metadata (40 kB)\n",
      "Requirement already satisfied: Pillow in /opt/conda/envs/py_3.12/lib/python3.12/site-packages (from diffusers->nnsight) (11.0.0)\n",
      "Requirement already satisfied: zipp>=3.20 in /opt/conda/envs/py_3.12/lib/python3.12/site-packages (from importlib_metadata->diffusers->nnsight) (3.23.0)\n",
      "Requirement already satisfied: decorator in /opt/conda/envs/py_3.12/lib/python3.12/site-packages (from ipython->nnsight) (5.2.1)\n",
      "Requirement already satisfied: ipython-pygments-lexers in /opt/conda/envs/py_3.12/lib/python3.12/site-packages (from ipython->nnsight) (1.1.1)\n",
      "Requirement already satisfied: jedi>=0.16 in /opt/conda/envs/py_3.12/lib/python3.12/site-packages (from ipython->nnsight) (0.19.2)\n",
      "Requirement already satisfied: matplotlib-inline in /opt/conda/envs/py_3.12/lib/python3.12/site-packages (from ipython->nnsight) (0.1.7)\n",
      "Requirement already satisfied: pexpect>4.3 in /opt/conda/envs/py_3.12/lib/python3.12/site-packages (from ipython->nnsight) (4.9.0)\n",
      "Requirement already satisfied: prompt_toolkit<3.1.0,>=3.0.41 in /opt/conda/envs/py_3.12/lib/python3.12/site-packages (from ipython->nnsight) (3.0.51)\n",
      "Requirement already satisfied: pygments>=2.4.0 in /opt/conda/envs/py_3.12/lib/python3.12/site-packages (from ipython->nnsight) (2.15.0)\n",
      "Requirement already satisfied: stack_data in /opt/conda/envs/py_3.12/lib/python3.12/site-packages (from ipython->nnsight) (0.6.3)\n",
      "Requirement already satisfied: traitlets>=5.13.0 in /opt/conda/envs/py_3.12/lib/python3.12/site-packages (from ipython->nnsight) (5.14.3)\n",
      "Requirement already satisfied: wcwidth in /opt/conda/envs/py_3.12/lib/python3.12/site-packages (from prompt_toolkit<3.1.0,>=3.0.41->ipython->nnsight) (0.2.13)\n",
      "Requirement already satisfied: parso<0.9.0,>=0.8.4 in /opt/conda/envs/py_3.12/lib/python3.12/site-packages (from jedi>=0.16->ipython->nnsight) (0.8.4)\n",
      "Requirement already satisfied: ptyprocess>=0.5 in /opt/conda/envs/py_3.12/lib/python3.12/site-packages (from pexpect>4.3->ipython->nnsight) (0.7.0)\n",
      "Requirement already satisfied: MarkupSafe>=2.0 in /opt/conda/envs/py_3.12/lib/python3.12/site-packages (from jinja2->torch>=2.4.0->nnsight) (3.0.2)\n",
      "Collecting bidict>=0.21.0 (from python-socketio[client]->nnsight)\n",
      "  Downloading bidict-0.23.1-py3-none-any.whl.metadata (8.7 kB)\n",
      "Collecting python-engineio>=4.11.0 (from python-socketio[client]->nnsight)\n",
      "  Downloading python_engineio-4.12.2-py3-none-any.whl.metadata (2.2 kB)\n",
      "Collecting websocket-client>=0.54.0 (from python-socketio[client]->nnsight)\n",
      "  Downloading websocket_client-1.8.0-py3-none-any.whl.metadata (8.0 kB)\n",
      "Collecting simple-websocket>=0.10.0 (from python-engineio>=4.11.0->python-socketio[client]->nnsight)\n",
      "  Downloading simple_websocket-1.1.0-py3-none-any.whl.metadata (1.5 kB)\n",
      "Requirement already satisfied: charset-normalizer<4,>=2 in /opt/conda/envs/py_3.12/lib/python3.12/site-packages (from requests->huggingface-hub<1.0,>=0.16.4->tokenizers>=0.13.0->nnsight) (3.4.2)\n",
      "Requirement already satisfied: idna<4,>=2.5 in /opt/conda/envs/py_3.12/lib/python3.12/site-packages (from requests->huggingface-hub<1.0,>=0.16.4->tokenizers>=0.13.0->nnsight) (3.10)\n",
      "Requirement already satisfied: urllib3<3,>=1.21.1 in /opt/conda/envs/py_3.12/lib/python3.12/site-packages (from requests->huggingface-hub<1.0,>=0.16.4->tokenizers>=0.13.0->nnsight) (2.4.0)\n",
      "Requirement already satisfied: certifi>=2017.4.17 in /opt/conda/envs/py_3.12/lib/python3.12/site-packages (from requests->huggingface-hub<1.0,>=0.16.4->tokenizers>=0.13.0->nnsight) (2025.4.26)\n",
      "Collecting wsproto (from simple-websocket>=0.10.0->python-engineio>=4.11.0->python-socketio[client]->nnsight)\n",
      "  Downloading wsproto-1.2.0-py3-none-any.whl.metadata (5.6 kB)\n",
      "Requirement already satisfied: executing>=1.2.0 in /opt/conda/envs/py_3.12/lib/python3.12/site-packages (from stack_data->ipython->nnsight) (2.2.0)\n",
      "Requirement already satisfied: asttokens>=2.1.0 in /opt/conda/envs/py_3.12/lib/python3.12/site-packages (from stack_data->ipython->nnsight) (3.0.0)\n",
      "Requirement already satisfied: pure_eval in /opt/conda/envs/py_3.12/lib/python3.12/site-packages (from stack_data->ipython->nnsight) (0.2.3)\n",
      "Collecting h11<1,>=0.9.0 (from wsproto->simple-websocket>=0.10.0->python-engineio>=4.11.0->python-socketio[client]->nnsight)\n",
      "  Downloading h11-0.16.0-py3-none-any.whl.metadata (8.3 kB)\n",
      "Downloading nnsight-0.4.8-py3-none-any.whl (103 kB)\n",
      "Downloading pydantic-2.11.7-py3-none-any.whl (444 kB)\n",
      "Downloading pydantic_core-2.33.2-cp312-cp312-manylinux_2_17_x86_64.manylinux2014_x86_64.whl (2.0 MB)\n",
      "\u001b[2K   \u001b[90m━━━━━━━━━━━━━━━━━━━━━━━━━━━━━━━━━━━━━━━━\u001b[0m \u001b[32m2.0/2.0 MB\u001b[0m \u001b[31m47.2 MB/s\u001b[0m eta \u001b[36m0:00:00\u001b[0m\n",
      "\u001b[?25hDownloading annotated_types-0.7.0-py3-none-any.whl (13 kB)\n",
      "Downloading tokenizers-0.21.2-cp39-abi3-manylinux_2_17_x86_64.manylinux2014_x86_64.whl (3.1 MB)\n",
      "\u001b[2K   \u001b[90m━━━━━━━━━━━━━━━━━━━━━━━━━━━━━━━━━━━━━━━━\u001b[0m \u001b[32m3.1/3.1 MB\u001b[0m \u001b[31m52.7 MB/s\u001b[0m eta \u001b[36m0:00:00\u001b[0m\n",
      "\u001b[?25hDownloading huggingface_hub-0.33.4-py3-none-any.whl (515 kB)\n",
      "Downloading hf_xet-1.1.5-cp37-abi3-manylinux_2_17_x86_64.manylinux2014_x86_64.whl (3.1 MB)\n",
      "\u001b[2K   \u001b[90m━━━━━━━━━━━━━━━━━━━━━━━━━━━━━━━━━━━━━━━━\u001b[0m \u001b[32m3.1/3.1 MB\u001b[0m \u001b[31m52.3 MB/s\u001b[0m eta \u001b[36m0:00:00\u001b[0m\n",
      "\u001b[?25hDownloading typing_inspection-0.4.1-py3-none-any.whl (14 kB)\n",
      "Downloading accelerate-1.9.0-py3-none-any.whl (367 kB)\n",
      "Downloading safetensors-0.5.3-cp38-abi3-manylinux_2_17_x86_64.manylinux2014_x86_64.whl (471 kB)\n",
      "Downloading diffusers-0.34.0-py3-none-any.whl (3.8 MB)\n",
      "\u001b[2K   \u001b[90m━━━━━━━━━━━━━━━━━━━━━━━━━━━━━━━━━━━━━━━━\u001b[0m \u001b[32m3.8/3.8 MB\u001b[0m \u001b[31m56.5 MB/s\u001b[0m eta \u001b[36m0:00:00\u001b[0m\n",
      "\u001b[?25hDownloading regex-2024.11.6-cp312-cp312-manylinux_2_17_x86_64.manylinux2014_x86_64.whl (796 kB)\n",
      "\u001b[2K   \u001b[90m━━━━━━━━━━━━━━━━━━━━━━━━━━━━━━━━━━━━━━━━\u001b[0m \u001b[32m796.9/796.9 kB\u001b[0m \u001b[31m42.4 MB/s\u001b[0m eta \u001b[36m0:00:00\u001b[0m\n",
      "\u001b[?25hDownloading einops-0.8.1-py3-none-any.whl (64 kB)\n",
      "Downloading msgspec-0.19.0-cp312-cp312-manylinux_2_17_x86_64.manylinux2014_x86_64.whl (213 kB)\n",
      "Downloading python_socketio-5.13.0-py3-none-any.whl (77 kB)\n",
      "Downloading bidict-0.23.1-py3-none-any.whl (32 kB)\n",
      "Downloading python_engineio-4.12.2-py3-none-any.whl (59 kB)\n",
      "Downloading simple_websocket-1.1.0-py3-none-any.whl (13 kB)\n",
      "Downloading websocket_client-1.8.0-py3-none-any.whl (58 kB)\n",
      "Downloading sentencepiece-0.2.0-cp312-cp312-manylinux_2_17_x86_64.manylinux2014_x86_64.whl (1.3 MB)\n",
      "\u001b[2K   \u001b[90m━━━━━━━━━━━━━━━━━━━━━━━━━━━━━━━━━━━━━━━━\u001b[0m \u001b[32m1.3/1.3 MB\u001b[0m \u001b[31m8.5 MB/s\u001b[0m eta \u001b[36m0:00:00\u001b[0m\n",
      "\u001b[?25hDownloading toml-0.10.2-py2.py3-none-any.whl (16 kB)\n",
      "Downloading transformers-4.53.2-py3-none-any.whl (10.8 MB)\n",
      "\u001b[2K   \u001b[90m━━━━━━━━━━━━━━━━━━━━━━━━━━━━━━━━━━━━━━━━\u001b[0m \u001b[32m10.8/10.8 MB\u001b[0m \u001b[31m63.3 MB/s\u001b[0m eta \u001b[36m0:00:00\u001b[0m\n",
      "\u001b[?25hDownloading wsproto-1.2.0-py3-none-any.whl (24 kB)\n",
      "Downloading h11-0.16.0-py3-none-any.whl (37 kB)\n",
      "Installing collected packages: sentencepiece, websocket-client, typing-inspection, toml, safetensors, regex, pydantic-core, msgspec, hf-xet, h11, einops, bidict, annotated-types, wsproto, pydantic, huggingface-hub, tokenizers, simple-websocket, diffusers, accelerate, transformers, python-engineio, python-socketio, nnsight\n",
      "\u001b[2K   \u001b[90m━━━━━━━━━━━━━━━━━━━━━━━━━━━━━━━━━━━━━━━━\u001b[0m \u001b[32m24/24\u001b[0m [nnsight]1/24\u001b[0m [python-engineio]\n",
      "\u001b[1A\u001b[2KSuccessfully installed accelerate-1.9.0 annotated-types-0.7.0 bidict-0.23.1 diffusers-0.34.0 einops-0.8.1 h11-0.16.0 hf-xet-1.1.5 huggingface-hub-0.33.4 msgspec-0.19.0 nnsight-0.4.8 pydantic-2.11.7 pydantic-core-2.33.2 python-engineio-4.12.2 python-socketio-5.13.0 regex-2024.11.6 safetensors-0.5.3 sentencepiece-0.2.0 simple-websocket-1.1.0 tokenizers-0.21.2 toml-0.10.2 transformers-4.53.2 typing-inspection-0.4.1 websocket-client-1.8.0 wsproto-1.2.0\n",
      "\u001b[33mWARNING: Running pip as the 'root' user can result in broken permissions and conflicting behaviour with the system package manager, possibly rendering your system unusable. It is recommended to use a virtual environment instead: https://pip.pypa.io/warnings/venv. Use the --root-user-action option if you know what you are doing and want to suppress this warning.\u001b[0m\u001b[33m\n",
      "\u001b[0mRequirement already satisfied: msgspec in /opt/conda/envs/py_3.12/lib/python3.12/site-packages (0.19.0)\n",
      "Requirement already satisfied: python-socketio[client] in /opt/conda/envs/py_3.12/lib/python3.12/site-packages (5.13.0)\n",
      "Requirement already satisfied: bidict>=0.21.0 in /opt/conda/envs/py_3.12/lib/python3.12/site-packages (from python-socketio[client]) (0.23.1)\n",
      "Requirement already satisfied: python-engineio>=4.11.0 in /opt/conda/envs/py_3.12/lib/python3.12/site-packages (from python-socketio[client]) (4.12.2)\n",
      "Requirement already satisfied: requests>=2.21.0 in /opt/conda/envs/py_3.12/lib/python3.12/site-packages (from python-socketio[client]) (2.32.3)\n",
      "Requirement already satisfied: websocket-client>=0.54.0 in /opt/conda/envs/py_3.12/lib/python3.12/site-packages (from python-socketio[client]) (1.8.0)\n",
      "Requirement already satisfied: simple-websocket>=0.10.0 in /opt/conda/envs/py_3.12/lib/python3.12/site-packages (from python-engineio>=4.11.0->python-socketio[client]) (1.1.0)\n",
      "Requirement already satisfied: charset-normalizer<4,>=2 in /opt/conda/envs/py_3.12/lib/python3.12/site-packages (from requests>=2.21.0->python-socketio[client]) (3.4.2)\n",
      "Requirement already satisfied: idna<4,>=2.5 in /opt/conda/envs/py_3.12/lib/python3.12/site-packages (from requests>=2.21.0->python-socketio[client]) (3.10)\n",
      "Requirement already satisfied: urllib3<3,>=1.21.1 in /opt/conda/envs/py_3.12/lib/python3.12/site-packages (from requests>=2.21.0->python-socketio[client]) (2.4.0)\n",
      "Requirement already satisfied: certifi>=2017.4.17 in /opt/conda/envs/py_3.12/lib/python3.12/site-packages (from requests>=2.21.0->python-socketio[client]) (2025.4.26)\n",
      "Requirement already satisfied: wsproto in /opt/conda/envs/py_3.12/lib/python3.12/site-packages (from simple-websocket>=0.10.0->python-engineio>=4.11.0->python-socketio[client]) (1.2.0)\n",
      "Requirement already satisfied: h11<1,>=0.9.0 in /opt/conda/envs/py_3.12/lib/python3.12/site-packages (from wsproto->simple-websocket>=0.10.0->python-engineio>=4.11.0->python-socketio[client]) (0.16.0)\n",
      "\u001b[33mWARNING: Running pip as the 'root' user can result in broken permissions and conflicting behaviour with the system package manager, possibly rendering your system unusable. It is recommended to use a virtual environment instead: https://pip.pypa.io/warnings/venv. Use the --root-user-action option if you know what you are doing and want to suppress this warning.\u001b[0m\u001b[33m\n",
      "\u001b[0mCollecting ftfy\n",
      "  Downloading ftfy-6.3.1-py3-none-any.whl.metadata (7.3 kB)\n",
      "Requirement already satisfied: wcwidth in /opt/conda/envs/py_3.12/lib/python3.12/site-packages (from ftfy) (0.2.13)\n",
      "Downloading ftfy-6.3.1-py3-none-any.whl (44 kB)\n",
      "Installing collected packages: ftfy\n",
      "Successfully installed ftfy-6.3.1\n",
      "\u001b[33mWARNING: Running pip as the 'root' user can result in broken permissions and conflicting behaviour with the system package manager, possibly rendering your system unusable. It is recommended to use a virtual environment instead: https://pip.pypa.io/warnings/venv. Use the --root-user-action option if you know what you are doing and want to suppress this warning.\u001b[0m\u001b[33m\n",
      "\u001b[0m"
     ]
    }
   ],
   "source": [
    "!pip install nnsight\n",
    "!pip install msgspec \"python-socketio[client]\"\n",
    "!pip install ftfy"
   ]
  },
  {
   "cell_type": "code",
   "execution_count": 2,
   "metadata": {
    "_cell_guid": "b1076dfc-b9ad-4769-8c92-a6c4dae69d19",
    "_uuid": "8f2839f25d086af736a60e9eeb907d3b93b6e0e5",
    "execution": {
     "iopub.execute_input": "2025-07-17T06:01:59.001079Z",
     "iopub.status.busy": "2025-07-17T06:01:59.000490Z",
     "iopub.status.idle": "2025-07-17T06:01:59.005099Z",
     "shell.execute_reply": "2025-07-17T06:01:59.004399Z",
     "shell.execute_reply.started": "2025-07-17T06:01:59.001057Z"
    },
    "trusted": true
   },
   "outputs": [
    {
     "name": "stderr",
     "output_type": "stream",
     "text": [
      "/opt/conda/envs/py_3.12/lib/python3.12/site-packages/tqdm/auto.py:21: TqdmWarning: IProgress not found. Please update jupyter and ipywidgets. See https://ipywidgets.readthedocs.io/en/stable/user_install.html\n",
      "  from .autonotebook import tqdm as notebook_tqdm\n",
      "/opt/conda/envs/py_3.12/lib/python3.12/site-packages/redis/connection.py:77: UserWarning: redis-py works best with hiredis. Please consider installing\n",
      "  warnings.warn(msg)\n"
     ]
    }
   ],
   "source": [
    "import torch\n",
    "import io\n",
    "import base64\n",
    "import csv\n",
    "from PIL import Image\n",
    "from diffusers import StableDiffusionPipeline\n",
    "from nnsight.modeling.diffusion import DiffusionModel\n",
    "import pandas as pd\n",
    "from nnsight import NNsight\n",
    "import numpy as np"
   ]
  },
  {
   "cell_type": "code",
   "execution_count": 3,
   "metadata": {
    "execution": {
     "iopub.execute_input": "2025-07-17T06:02:10.959092Z",
     "iopub.status.busy": "2025-07-17T06:02:10.958456Z",
     "iopub.status.idle": "2025-07-17T06:02:47.317326Z",
     "shell.execute_reply": "2025-07-17T06:02:47.316493Z",
     "shell.execute_reply.started": "2025-07-17T06:02:10.959065Z"
    },
    "trusted": true
   },
   "outputs": [
    {
     "name": "stderr",
     "output_type": "stream",
     "text": [
      "Fetching 13 files: 100%|██████████| 13/13 [01:30<00:00,  6.98s/it]\n",
      "Loading pipeline components...: 100%|██████████| 6/6 [00:01<00:00,  4.73it/s]\n"
     ]
    }
   ],
   "source": [
    "MODEL_PATH = \"stabilityai/stable-diffusion-2-1-base\"\n",
    "SEED = 17 # Do not modify the seed as per challenge rules\n",
    "\n",
    "# Initialize the model\n",
    "model = DiffusionModel(\n",
    "    MODEL_PATH,\n",
    "    dispatch=True\n",
    ").to(\"cuda\")\n",
    "\n",
    "# Function to get MLP activations from the Text Encoder\n",
    "def get_MLP_activations(prompt):\n",
    "    LAYERS = model.text_encoder.text_model.encoder.layers\n",
    "    saved_activations = []\n",
    "\n",
    "    with model.generate(\n",
    "        prompt,\n",
    "        seed=SEED\n",
    "    ):\n",
    "        for layer in LAYERS:\n",
    "            saved_activations.append(layer.mlp.output.save())\n",
    "\n",
    "    actual_activations = [s.value for s in saved_activations]\n",
    "    layers_tensor = torch.stack(actual_activations, dim=0)\n",
    "    return layers_tensor"
   ]
  },
  {
   "cell_type": "code",
   "execution_count": 4,
   "metadata": {
    "trusted": true
   },
   "outputs": [],
   "source": [
    "def pil_image_to_string(img: Image.Image) -> str:\n",
    "    \"\"\"\n",
    "    Convert a PIL image to a Base64-encoded string.\n",
    "\n",
    "    Args:\n",
    "        img: PIL.Image object.\n",
    "\n",
    "    Returns:\n",
    "        Base64 string representing the image.\n",
    "    \"\"\"\n",
    "    buf = io.BytesIO()\n",
    "    img.save(buf, format='PNG') # PNG for lossless compression\n",
    "    # FIX: Corrected typo from base66 to base64\n",
    "    return base64.b64encode(buf.getvalue()).decode('utf-8')\n"
   ]
  },
  {
   "cell_type": "code",
   "execution_count": null,
   "metadata": {
    "trusted": true
   },
   "outputs": [],
   "source": [
    "# --- REFINED AND EXPANDED Prompt Pairs for Winter/Summer Concept Isolation ---\n",
    "# These pairs aim for greater diversity and stricter negation to produce a purer steering vector.\n",
    "prompt_pairs = [\n",
    "    # --- Landscapes & Natural Environments ---\n",
    "    (\"An aerial view of a snow-covered mountain range, icy peaks, frozen lake, stark white landscape\",\n",
    "     \"An aerial view of a lush green mountain range, rocky peaks, clear lake, vibrant green landscape\"),\n",
    "\n",
    "    (\"A lone pine tree heavily laden with snow, in a silent, freezing forest, under a grey, winter sky\",\n",
    "     \"A lone pine tree surrounded by wildflowers, in a vibrant, sunlit forest, under a clear, summer sky\"),\n",
    "\n",
    "    (\"A frozen waterfall cascading down an icy cliff, with a thin layer of snow on the rocks\",\n",
    "     \"A gushing waterfall cascading down a mossy cliff, with lush greenery and clear water\"),\n",
    "\n",
    "    (\"A wide shot of an abandoned lighthouse on a windswept, snow-dusted coastline, stormy grey ocean\",\n",
    "     \"A wide shot of an abandoned lighthouse on a sunny, sandy coastline, clear blue ocean\"),\n",
    "\n",
    "    (\"A vast arctic tundra covered in fresh powder snow, ice sheet, polar bears in distance\",\n",
    "     \"A vast green savannah with tall grass, thorny trees, elephants in distance\"),\n",
    "\n",
    "    (\"A calm river completely frozen over, skaters on the ice, snow banks on the sides\",\n",
    "     \"A calm river flowing gently, kayakers on the water, green banks on the sides\"),\n",
    "\n",
    "    (\"A quiet forest path blanketed in fresh, untouched snow, cold silence, bare branches\",\n",
    "     \"A quiet forest path lined with vibrant green moss, chirping birds, leafy canopies\"),\n",
    "\n",
    "    (\"Jagged icebergs floating in a dark, frigid sea, surrounded by vast, cold water\",\n",
    "     \"Lush tropical islands floating in a bright, warm sea, surrounded by clear, blue water\"),\n",
    "\n",
    "    (\"A field of frosted winter wheat under a pale sun, covered in hoarfrost\",\n",
    "     \"A field of golden summer wheat under a bright sun, swaying in a warm breeze\"),\n",
    "\n",
    "    # --- Urban & Architectural Scenes ---\n",
    "    (\"A bustling city street at dusk, covered in fresh snow, people bundled in thick coats, steaming breath\",\n",
    "     \"A bustling city street at dusk, bathed in warm light, people in light clothing, outdoor cafes\"),\n",
    "\n",
    "    (\"An old stone bridge covered in thick frost and icicles, leading to a snowy village\",\n",
    "     \"An old stone bridge covered in moss and vines, leading to a sunny village\"),\n",
    "\n",
    "    (\"A public park covered in a blanket of snow, with bare trees and frozen fountains\",\n",
    "     \"A public park with lush green lawns, blooming flowerbeds, and splashing fountains\"),\n",
    "\n",
    "    # --- Objects & Details ---\n",
    "    (\"A close-up of delicate snowflakes falling on an old wooden fence, frosty branches in the background\",\n",
    "     \"A close-up of dew drops on lush green leaves, blooming roses in the background, warm sunlight\"),\n",
    "\n",
    "    (\"A steaming mug of hot chocolate on a frosty window sill, condensation on glass\",\n",
    "     \"A glass of iced tea with lemon on a sunlit window sill, clear glass\"),\n",
    "\n",
    "    (\"A thick woolen scarf and mittens hanging on a snow-dusted branch\",\n",
    "     \"A light linen scarf and straw hat hanging on a leafy branch\"),\n",
    "\n",
    "    (\"Crystal clear ice cubes rattling in a chilled glass, condensation\",\n",
    "     \"Warm water gently steaming in a ceramic mug\"),\n",
    "\n",
    "    # --- People & Activities ---\n",
    "    (\"Children building a snowman in a suburban park, surrounded by snowdrifts, bare trees\",\n",
    "     \"Children playing on a swing set in a suburban park, surrounded by green grass, leafy trees\"),\n",
    "\n",
    "    (\"A cozy cabin interior with a roaring fireplace, looking out at a heavy snowfall, frosted windowpanes\",\n",
    "     \"A cozy cabin interior with open windows, looking out at a sunny meadow, blooming flowers\"),\n",
    "\n",
    "    (\"A person dressed in a heavy parka walking through a blizzard, face hidden by hood\",\n",
    "     \"A person dressed in light shorts and t-shirt walking on a sunny beach, sunglasses on\"),\n",
    "\n",
    "    (\"Skiers descending a powdery mountain slope, snow kicking up behind them\",\n",
    "     \"Hikers ascending a grassy mountain trail, wildflowers in bloom\"),\n",
    "\n",
    "    (\"People huddled around a roaring bonfire in a snowy landscape, bundled up\",\n",
    "     \"People having a lively barbecue in a grassy park, wearing light clothes\"),\n",
    "\n",
    "    (\"A group ice skating on a frozen lake, rosy cheeks from the cold, winter sports\",\n",
    "     \"A group swimming in a clear lake, tanned skin from the sun, summer fun\"),\n",
    "\n",
    "    # --- Abstract & Atmospheric Elements ---\n",
    "    (\"The crisp, sharp air of a winter morning, cold breath visible, white light\",\n",
    "     \"The warm, humid air of a summer morning, gentle breeze, golden light\"),\n",
    "\n",
    "    (\"A landscape dominated by shades of white, grey, and deep blue, cold colors, muted tones\",\n",
    "     \"A landscape dominated by vibrant greens, yellows, and warm reds, lively colors, bright hues\"),\n",
    "\n",
    "    (\"A feeling of quiet stillness and introspection, muffled by snow, serene atmosphere\",\n",
    "     \"A feeling of vibrant energy and outdoor activity, buzzing with life, joyful atmosphere\")\n",
    "]\n"
   ]
  },
  {
   "cell_type": "code",
   "execution_count": null,
   "metadata": {},
   "outputs": [],
   "source": [
    "\n",
    "prompt_pairs_with_weights = [\n",
    "    (\"An aerial view of a snow-covered mountain range, icy peaks, frozen lake, stark white landscape\", \"An aerial view of a lush green mountain range, rocky peaks, clear lake, vibrant green landscape\", 1.0),\n",
    "    (\"A lone pine tree heavily laden with snow, in a silent, freezing forest, under a grey, winter sky\", \"A lone pine tree surrounded by wildflowers, in a vibrant, sunlit forest, under a clear, summer sky\", 0.95),\n",
    "    (\"A frozen waterfall cascading down an icy cliff, with a thin layer of snow on the rocks\", \"A gushing waterfall cascading down a mossy cliff, with lush greenery and clear water\", 0.95),\n",
    "    (\"A wide shot of an abandoned lighthouse on a windswept, snow-dusted coastline, stormy grey ocean\", \"A wide shot of an abandoned lighthouse on a sunny, sandy coastline, clear blue ocean\", 0.85),\n",
    "    (\"A vast arctic tundra covered in fresh powder snow, ice sheet, polar bears in distance\", \"A vast green savannah with tall grass, thorny trees, elephants in distance\", 1.0),\n",
    "    (\"A calm river completely frozen over, skaters on the ice, snow banks on the sides\", \"A calm river flowing gently, kayakers on the water, green banks on the sides\", 0.95),\n",
    "    (\"A quiet forest path blanketed in fresh, untouched snow, cold silence, bare branches\", \"A quiet forest path lined with vibrant green moss, chirping birds, leafy canopies\", 0.9),\n",
    "    (\"Jagged icebergs floating in a dark, frigid sea, surrounded by vast, cold water\", \"Lush tropical islands floating in a bright, warm sea, surrounded by clear, blue water\", 1.0),\n",
    "    (\"A field of frosted winter wheat under a pale sun, covered in hoarfrost\", \"A field of golden summer wheat under a bright sun, swaying in a warm breeze\", 0.9),\n",
    "    (\"A bustling city street at dusk, covered in fresh snow, people bundled in thick coats, steaming breath\", \"A bustling city street at dusk, bathed in warm light, people in light clothing, outdoor cafes\", 0.95),\n",
    "    (\"An old stone bridge covered in thick frost and icicles, leading to a snowy village\", \"An old stone bridge covered in moss and vines, leading to a sunny village\", 0.9),\n",
    "    (\"A public park covered in a blanket of snow, with bare trees and frozen fountains\", \"A public park with lush green lawns, blooming flowerbeds, and splashing fountains\", 0.9),\n",
    "    (\"A close-up of delicate snowflakes falling on an old wooden fence, frosty branches in the background\", \"A close-up of dew drops on lush green leaves, blooming roses in the background, warm sunlight\", 0.95),\n",
    "    (\"A steaming mug of hot chocolate on a frosty window sill, condensation on glass\", \"A glass of iced tea with lemon on a sunlit window sill, clear glass\", 0.9),\n",
    "    (\"A thick woolen scarf and mittens hanging on a snow-dusted branch\", \"A light linen scarf and straw hat hanging on a leafy branch\", 0.85),\n",
    "    (\"Crystal clear ice cubes rattling in a chilled glass, condensation\", \"Warm water gently steaming in a ceramic mug\", 0.7),\n",
    "    (\"Children building a snowman in a suburban park, surrounded by snowdrifts, bare trees\", \"Children playing on a swing set in a suburban park, surrounded by green grass, leafy trees\", 1.0),\n",
    "    (\"A cozy cabin interior with a roaring fireplace, looking out at a heavy snowfall, frosted windowpanes\", \"A cozy cabin interior with open windows, looking out at a sunny meadow, blooming flowers\", 0.95),\n",
    "    (\"A person dressed in a heavy parka walking through a blizzard, face hidden by hood\", \"A person dressed in light shorts and t-shirt walking on a sunny beach, sunglasses on\", 0.95),\n",
    "    (\"Skiers descending a powdery mountain slope, snow kicking up behind them\", \"Hikers ascending a grassy mountain trail, wildflowers in bloom\", 1.0),\n",
    "    (\"People huddled around a roaring bonfire in a snowy landscape, bundled up\", \"People having a lively barbecue in a grassy park, wearing light clothes\", 0.9),\n",
    "    (\"A group ice skating on a frozen lake, rosy cheeks from the cold, winter sports\", \"A group swimming in a clear lake, tanned skin from the sun, summer fun\", 0.95),\n",
    "    (\"The crisp, sharp air of a winter morning, cold breath visible, white light\", \"The warm, humid air of a summer morning, gentle breeze, golden light\", 1.0),\n",
    "    (\"A landscape dominated by shades of white, grey, and deep blue, cold colors, muted tones\", \"A landscape dominated by vibrant greens, yellows, and warm reds, lively colors, bright hues\", 1.0),\n",
    "    (\"A feeling of quiet stillness and introspection, muffled by snow, serene atmosphere\", \"A feeling of vibrant energy and outdoor activity, buzzing with life, joyful atmosphere\", 0.95)\n",
    "]\n"
   ]
  },
  {
   "cell_type": "code",
   "execution_count": null,
   "metadata": {
    "trusted": true
   },
   "outputs": [],
   "source": [
    "# --- Compute NORMALIZED Steering Vector using all prompt pairs ---\n",
    "print(\"Computing steering vector using multiple prompt pairs...\")\n",
    "\n",
    "sum_of_unnormalized_steering_vectors = None\n",
    "\n",
    "for i, (positive_prompt, negative_prompt) in enumerate(prompt_pairs):\n",
    "    print(f\"Processing prompt pair {i+1}/{len(prompt_pairs)}: Positive='{positive_prompt}', Negative='{negative_prompt}'\")\n",
    "\n",
    "    activations_positive = get_MLP_activations(positive_prompt)\n",
    "    activations_negative = get_MLP_activations(negative_prompt)\n",
    "\n",
    "    current_unnormalized_steering_vector = activations_positive - activations_negative\n",
    "\n",
    "    if sum_of_unnormalized_steering_vectors is None:\n",
    "        sum_of_unnormalized_steering_vectors = current_unnormalized_steering_vector\n",
    "    else:\n",
    "        sum_of_unnormalized_steering_vectors += current_unnormalized_steering_vector\n",
    "\n",
    "print(\"Normalizing the accumulated steering vector...\")\n",
    "steering_vector = torch.nn.functional.normalize(sum_of_unnormalized_steering_vectors, p=2, dim=-1)\n",
    "print(f\"Final steering vector calculated with shape: {steering_vector.shape}\")"
   ]
  },
  {
   "cell_type": "markdown",
   "metadata": {},
   "source": [
    "Weighted Steering"
   ]
  },
  {
   "cell_type": "code",
   "execution_count": null,
   "metadata": {},
   "outputs": [
    {
     "name": "stdout",
     "output_type": "stream",
     "text": [
      "Computing weighted steering vector...\n"
     ]
    },
    {
     "name": "stderr",
     "output_type": "stream",
     "text": [
      "  0%|          | 0/50 [00:00<?, ?it/s]"
     ]
    },
    {
     "name": "stderr",
     "output_type": "stream",
     "text": [
      "100%|██████████| 50/50 [00:07<00:00,  6.86it/s]\n"
     ]
    },
    {
     "name": "stdout",
     "output_type": "stream",
     "text": [
      "Processing prompt pair 1/26 with weight 1.0...\n"
     ]
    },
    {
     "name": "stderr",
     "output_type": "stream",
     "text": [
      "100%|██████████| 50/50 [00:07<00:00,  6.88it/s]\n",
      "100%|██████████| 50/50 [00:07<00:00,  6.89it/s]\n"
     ]
    },
    {
     "name": "stdout",
     "output_type": "stream",
     "text": [
      "Processing prompt pair 2/26 with weight 0.95...\n"
     ]
    },
    {
     "name": "stderr",
     "output_type": "stream",
     "text": [
      "100%|██████████| 50/50 [00:07<00:00,  6.89it/s]\n",
      "100%|██████████| 50/50 [00:07<00:00,  6.88it/s]\n"
     ]
    },
    {
     "name": "stdout",
     "output_type": "stream",
     "text": [
      "Processing prompt pair 3/26 with weight 0.95...\n"
     ]
    },
    {
     "name": "stderr",
     "output_type": "stream",
     "text": [
      "100%|██████████| 50/50 [00:07<00:00,  6.89it/s]\n",
      "100%|██████████| 50/50 [00:07<00:00,  6.86it/s]\n"
     ]
    },
    {
     "name": "stdout",
     "output_type": "stream",
     "text": [
      "Processing prompt pair 4/26 with weight 0.85...\n"
     ]
    },
    {
     "name": "stderr",
     "output_type": "stream",
     "text": [
      "100%|██████████| 50/50 [00:07<00:00,  6.87it/s]\n",
      "100%|██████████| 50/50 [00:07<00:00,  6.88it/s]\n"
     ]
    },
    {
     "name": "stdout",
     "output_type": "stream",
     "text": [
      "Processing prompt pair 5/26 with weight 1.0...\n"
     ]
    },
    {
     "name": "stderr",
     "output_type": "stream",
     "text": [
      "100%|██████████| 50/50 [00:07<00:00,  6.84it/s]\n",
      "100%|██████████| 50/50 [00:07<00:00,  6.89it/s]\n"
     ]
    },
    {
     "name": "stdout",
     "output_type": "stream",
     "text": [
      "Processing prompt pair 6/26 with weight 0.95...\n"
     ]
    },
    {
     "name": "stderr",
     "output_type": "stream",
     "text": [
      "100%|██████████| 50/50 [00:07<00:00,  6.88it/s]\n",
      "100%|██████████| 50/50 [00:07<00:00,  6.88it/s]\n"
     ]
    },
    {
     "name": "stdout",
     "output_type": "stream",
     "text": [
      "Processing prompt pair 7/26 with weight 0.9...\n"
     ]
    },
    {
     "name": "stderr",
     "output_type": "stream",
     "text": [
      "100%|██████████| 50/50 [00:07<00:00,  6.90it/s]\n",
      "100%|██████████| 50/50 [00:07<00:00,  6.89it/s]\n"
     ]
    },
    {
     "name": "stdout",
     "output_type": "stream",
     "text": [
      "Processing prompt pair 8/26 with weight 1.0...\n"
     ]
    },
    {
     "name": "stderr",
     "output_type": "stream",
     "text": [
      "100%|██████████| 50/50 [00:07<00:00,  6.89it/s]\n",
      "100%|██████████| 50/50 [00:07<00:00,  6.89it/s]\n"
     ]
    },
    {
     "name": "stdout",
     "output_type": "stream",
     "text": [
      "Processing prompt pair 9/26 with weight 0.9...\n"
     ]
    },
    {
     "name": "stderr",
     "output_type": "stream",
     "text": [
      "100%|██████████| 50/50 [00:07<00:00,  6.89it/s]\n",
      "100%|██████████| 50/50 [00:07<00:00,  6.88it/s]\n"
     ]
    },
    {
     "name": "stdout",
     "output_type": "stream",
     "text": [
      "Processing prompt pair 10/26 with weight 0.95...\n"
     ]
    },
    {
     "name": "stderr",
     "output_type": "stream",
     "text": [
      "100%|██████████| 50/50 [00:07<00:00,  6.89it/s]\n",
      "100%|██████████| 50/50 [00:07<00:00,  6.88it/s]\n"
     ]
    },
    {
     "name": "stdout",
     "output_type": "stream",
     "text": [
      "Processing prompt pair 11/26 with weight 0.9...\n"
     ]
    },
    {
     "name": "stderr",
     "output_type": "stream",
     "text": [
      "100%|██████████| 50/50 [00:07<00:00,  6.87it/s]\n",
      "100%|██████████| 50/50 [00:07<00:00,  6.83it/s]\n"
     ]
    },
    {
     "name": "stdout",
     "output_type": "stream",
     "text": [
      "Processing prompt pair 12/26 with weight 0.9...\n"
     ]
    },
    {
     "name": "stderr",
     "output_type": "stream",
     "text": [
      "100%|██████████| 50/50 [00:07<00:00,  6.83it/s]\n",
      "100%|██████████| 50/50 [00:07<00:00,  6.81it/s]\n"
     ]
    },
    {
     "name": "stdout",
     "output_type": "stream",
     "text": [
      "Processing prompt pair 13/26 with weight 0.95...\n"
     ]
    },
    {
     "name": "stderr",
     "output_type": "stream",
     "text": [
      "100%|██████████| 50/50 [00:07<00:00,  6.83it/s]\n",
      "100%|██████████| 50/50 [00:07<00:00,  6.86it/s]\n"
     ]
    },
    {
     "name": "stdout",
     "output_type": "stream",
     "text": [
      "Processing prompt pair 14/26 with weight 0.9...\n"
     ]
    },
    {
     "name": "stderr",
     "output_type": "stream",
     "text": [
      "100%|██████████| 50/50 [00:07<00:00,  6.89it/s]\n",
      "100%|██████████| 50/50 [00:07<00:00,  6.87it/s]\n"
     ]
    },
    {
     "name": "stdout",
     "output_type": "stream",
     "text": [
      "Processing prompt pair 15/26 with weight 0.85...\n"
     ]
    },
    {
     "name": "stderr",
     "output_type": "stream",
     "text": [
      "100%|██████████| 50/50 [00:07<00:00,  6.87it/s]\n",
      "100%|██████████| 50/50 [00:07<00:00,  6.85it/s]\n"
     ]
    },
    {
     "name": "stdout",
     "output_type": "stream",
     "text": [
      "Processing prompt pair 16/26 with weight 0.7...\n"
     ]
    },
    {
     "name": "stderr",
     "output_type": "stream",
     "text": [
      "100%|██████████| 50/50 [00:07<00:00,  6.87it/s]\n",
      "100%|██████████| 50/50 [00:07<00:00,  6.83it/s]\n"
     ]
    },
    {
     "name": "stdout",
     "output_type": "stream",
     "text": [
      "Processing prompt pair 17/26 with weight 1.0...\n"
     ]
    },
    {
     "name": "stderr",
     "output_type": "stream",
     "text": [
      "100%|██████████| 50/50 [00:07<00:00,  6.86it/s]\n",
      "100%|██████████| 50/50 [00:07<00:00,  6.88it/s]\n"
     ]
    },
    {
     "name": "stdout",
     "output_type": "stream",
     "text": [
      "Processing prompt pair 18/26 with weight 0.95...\n"
     ]
    },
    {
     "name": "stderr",
     "output_type": "stream",
     "text": [
      "100%|██████████| 50/50 [00:07<00:00,  6.87it/s]\n",
      "100%|██████████| 50/50 [00:07<00:00,  6.88it/s]\n"
     ]
    },
    {
     "name": "stdout",
     "output_type": "stream",
     "text": [
      "Processing prompt pair 19/26 with weight 0.95...\n"
     ]
    },
    {
     "name": "stderr",
     "output_type": "stream",
     "text": [
      "100%|██████████| 50/50 [00:07<00:00,  6.87it/s]\n",
      "100%|██████████| 50/50 [00:07<00:00,  6.86it/s]\n"
     ]
    },
    {
     "name": "stdout",
     "output_type": "stream",
     "text": [
      "Processing prompt pair 20/26 with weight 1.0...\n"
     ]
    },
    {
     "name": "stderr",
     "output_type": "stream",
     "text": [
      "100%|██████████| 50/50 [00:07<00:00,  6.88it/s]\n",
      "100%|██████████| 50/50 [00:07<00:00,  6.84it/s]\n"
     ]
    },
    {
     "name": "stdout",
     "output_type": "stream",
     "text": [
      "Processing prompt pair 21/26 with weight 0.9...\n"
     ]
    },
    {
     "name": "stderr",
     "output_type": "stream",
     "text": [
      "100%|██████████| 50/50 [00:07<00:00,  6.89it/s]\n",
      "100%|██████████| 50/50 [00:07<00:00,  6.82it/s]\n"
     ]
    },
    {
     "name": "stdout",
     "output_type": "stream",
     "text": [
      "Processing prompt pair 22/26 with weight 0.95...\n"
     ]
    },
    {
     "name": "stderr",
     "output_type": "stream",
     "text": [
      "100%|██████████| 50/50 [00:07<00:00,  6.82it/s]\n",
      "100%|██████████| 50/50 [00:07<00:00,  6.78it/s]\n"
     ]
    },
    {
     "name": "stdout",
     "output_type": "stream",
     "text": [
      "Processing prompt pair 23/26 with weight 1.0...\n"
     ]
    },
    {
     "name": "stderr",
     "output_type": "stream",
     "text": [
      "100%|██████████| 50/50 [00:07<00:00,  6.79it/s]\n",
      "100%|██████████| 50/50 [00:07<00:00,  6.85it/s]\n"
     ]
    },
    {
     "name": "stdout",
     "output_type": "stream",
     "text": [
      "Processing prompt pair 24/26 with weight 1.0...\n"
     ]
    },
    {
     "name": "stderr",
     "output_type": "stream",
     "text": [
      "100%|██████████| 50/50 [00:07<00:00,  6.84it/s]\n",
      "100%|██████████| 50/50 [00:07<00:00,  6.85it/s]\n"
     ]
    },
    {
     "name": "stdout",
     "output_type": "stream",
     "text": [
      "Processing prompt pair 25/26 with weight 0.95...\n"
     ]
    },
    {
     "name": "stderr",
     "output_type": "stream",
     "text": [
      "100%|██████████| 50/50 [00:07<00:00,  6.87it/s]\n",
      "100%|██████████| 50/50 [00:07<00:00,  6.87it/s]\n"
     ]
    },
    {
     "name": "stdout",
     "output_type": "stream",
     "text": [
      "Processing prompt pair 26/26 with weight 1.0...\n"
     ]
    },
    {
     "name": "stderr",
     "output_type": "stream",
     "text": [
      "100%|██████████| 50/50 [00:07<00:00,  6.88it/s]\n",
      "100%|██████████| 50/50 [00:07<00:00,  6.84it/s]\n"
     ]
    },
    {
     "name": "stdout",
     "output_type": "stream",
     "text": [
      "\n",
      "Normalizing the accumulated steering vector...\n",
      "Final weighted steering vector calculated with shape: torch.Size([23, 1, 77, 1024])\n"
     ]
    }
   ],
   "source": [
    "import torch\n",
    "import gc\n",
    "\n",
    "# =================================================================\n",
    "# 1. COMBINED AND WEIGHTED PROMPT PAIRS\n",
    "# =================================================================\n",
    "# Combined and expanded list of prompt pairs with weights.\n",
    "prompt_pairs_with_weights = [\n",
    "    # --- Original Set ---\n",
    "    (\"An aerial view of a snow-covered mountain range, icy peaks, frozen lake, stark white landscape\", \"An aerial view of a lush green mountain range, rocky peaks, clear lake, vibrant green landscape\", 1.0),\n",
    "    (\"A lone pine tree heavily laden with snow, in a silent, freezing forest, under a grey, winter sky\", \"A lone pine tree surrounded by wildflowers, in a vibrant, sunlit forest, under a clear, summer sky\", 0.95),\n",
    "    (\"A frozen waterfall cascading down an icy cliff, with a thin layer of snow on the rocks\", \"A gushing waterfall cascading down a mossy cliff, with lush greenery and clear water\", 0.95),\n",
    "    (\"A wide shot of an abandoned lighthouse on a windswept, snow-dusted coastline, stormy grey ocean\", \"A wide shot of an abandoned lighthouse on a sunny, sandy coastline, clear blue ocean\", 0.85),\n",
    "    (\"A vast arctic tundra covered in fresh powder snow, ice sheet, polar bears in distance\", \"A vast green savannah with tall grass, thorny trees, elephants in distance\", 1.0),\n",
    "    (\"A calm river completely frozen over, skaters on the ice, snow banks on the sides\", \"A calm river flowing gently, kayakers on the water, green banks on the sides\", 0.95),\n",
    "    (\"A quiet forest path blanketed in fresh, untouched snow, cold silence, bare branches\", \"A quiet forest path lined with vibrant green moss, chirping birds, leafy canopies\", 0.9),\n",
    "    (\"Jagged icebergs floating in a dark, frigid sea, surrounded by vast, cold water\", \"Lush tropical islands floating in a bright, warm sea, surrounded by clear, blue water\", 1.0),\n",
    "    (\"A field of frosted winter wheat under a pale sun, covered in hoarfrost\", \"A field of golden summer wheat under a bright sun, swaying in a warm breeze\", 0.9),\n",
    "    (\"A bustling city street at dusk, covered in fresh snow, people bundled in thick coats, steaming breath\", \"A bustling city street at dusk, bathed in warm light, people in light clothing, outdoor cafes\", 0.95),\n",
    "    (\"An old stone bridge covered in thick frost and icicles, leading to a snowy village\", \"An old stone bridge covered in moss and vines, leading to a sunny village\", 0.9),\n",
    "    (\"A public park covered in a blanket of snow, with bare trees and frozen fountains\", \"A public park with lush green lawns, blooming flowerbeds, and splashing fountains\", 0.9),\n",
    "    (\"A close-up of delicate snowflakes falling on an old wooden fence, frosty branches in the background\", \"A close-up of dew drops on lush green leaves, blooming roses in the background, warm sunlight\", 0.95),\n",
    "    (\"A steaming mug of hot chocolate on a frosty window sill, condensation on glass\", \"A glass of iced tea with lemon on a sunlit window sill, clear glass\", 0.9),\n",
    "    (\"A thick woolen scarf and mittens hanging on a snow-dusted branch\", \"A light linen scarf and straw hat hanging on a leafy branch\", 0.85),\n",
    "    (\"Crystal clear ice cubes rattling in a chilled glass, condensation\", \"Warm water gently steaming in a ceramic mug\", 0.7),\n",
    "    (\"Children building a snowman in a suburban park, surrounded by snowdrifts, bare trees\", \"Children playing on a swing set in a suburban park, surrounded by green grass, leafy trees\", 1.0),\n",
    "    (\"A cozy cabin interior with a roaring fireplace, looking out at a heavy snowfall, frosted windowpanes\", \"A cozy cabin interior with open windows, looking out at a sunny meadow, blooming flowers\", 0.95),\n",
    "    (\"A person dressed in a heavy parka walking through a blizzard, face hidden by hood\", \"A person dressed in light shorts and t-shirt walking on a sunny beach, sunglasses on\", 0.95),\n",
    "    (\"Skiers descending a powdery mountain slope, snow kicking up behind them\", \"Hikers ascending a grassy mountain trail, wildflowers in bloom\", 1.0),\n",
    "    (\"People huddled around a roaring bonfire in a snowy landscape, bundled up\", \"People having a lively barbecue in a grassy park, wearing light clothes\", 0.9),\n",
    "    (\"A group ice skating on a frozen lake, rosy cheeks from the cold, winter sports\", \"A group swimming in a clear lake, tanned skin from the sun, summer fun\", 0.95),\n",
    "    (\"The crisp, sharp air of a winter morning, cold breath visible, white light\", \"The warm, humid air of a summer morning, gentle breeze, golden light\", 1.0),\n",
    "    (\"A landscape dominated by shades of white, grey, and deep blue, cold colors, muted tones\", \"A landscape dominated by vibrant greens, yellows, and warm reds, lively colors, bright hues\", 1.0),\n",
    "    (\"A feeling of quiet stillness and introspection, muffled by snow, serene atmosphere\", \"A feeling of vibrant energy and outdoor activity, buzzing with life, joyful atmosphere\", 0.95),\n",
    "\n",
    "    # --- New Abstract Pair Added ---\n",
    "    (\"A blurry, abstract close-up of rough, grey concrete texture, devoid of any organic forms or vibrant colors.\", \"A vibrant, detailed macro shot of a delicate flower petal, showing intricate textures and vivid colors, soft focus background.\", 1.0)\n",
    "]\n",
    "\n",
    "# =================================================================\n",
    "# 2. COMPUTE WEIGHTED STEERING VECTOR\n",
    "# =================================================================\n",
    "# This function should already be defined in your notebook\n",
    "# def get_MLP_activations(prompt):\n",
    "#     ...\n",
    "\n",
    "print(\"Computing weighted steering vector...\")\n",
    "\n",
    "# Initialize a tensor to accumulate the weighted vectors\n",
    "initial_activations = get_MLP_activations(prompt_pairs_with_weights[0][0])\n",
    "sum_of_weighted_vectors = torch.zeros_like(initial_activations, device='cpu')\n",
    "\n",
    "# Loop through each prompt pair and its weight\n",
    "for i, (positive_prompt, negative_prompt, weight) in enumerate(prompt_pairs_with_weights):\n",
    "    print(f\"Processing prompt pair {i+1}/{len(prompt_pairs_with_weights)} with weight {weight}...\")\n",
    "\n",
    "    # Get activations for both prompts in the pair\n",
    "    activations_positive = get_MLP_activations(positive_prompt)\n",
    "    activations_negative = get_MLP_activations(negative_prompt)\n",
    "\n",
    "    # Calculate the steering vector for this specific pair\n",
    "    # --- THIS IS THE FIX ---\n",
    "    # Move the result to the CPU before doing any math with the CPU sum tensor\n",
    "    current_steering_vector = (activations_positive - activations_negative).to('cpu')\n",
    "\n",
    "    # Apply the weight to this vector and add it to the total sum\n",
    "    sum_of_weighted_vectors += current_steering_vector * weight\n",
    "\n",
    "print(\"\\nNormalizing the accumulated steering vector...\")\n",
    "\n",
    "# Normalize the final vector to have a unit length\n",
    "steering_vector = torch.nn.functional.normalize(sum_of_weighted_vectors, p=2, dim=-1)\n",
    "\n",
    "print(f\"Final weighted steering vector calculated with shape: {steering_vector.shape}\")\n"
   ]
  },
  {
   "cell_type": "markdown",
   "metadata": {},
   "source": [
    "Save steering vector"
   ]
  },
  {
   "cell_type": "code",
   "execution_count": null,
   "metadata": {},
   "outputs": [
    {
     "name": "stdout",
     "output_type": "stream",
     "text": [
      "Saving steering vector to steering_vector.txt...\n",
      "File 'steering_vector.txt' saved successfully.\n"
     ]
    }
   ],
   "source": [
    "import numpy as np\n",
    "import torch\n",
    "\n",
    "# Assume 'steering_vector' is your calculated tensor\n",
    "\n",
    "print(\"Saving steering vector to steering_vector.txt...\")\n",
    "\n",
    "# 1. Move the tensor to the CPU and convert it to a NumPy array\n",
    "steering_vector_np = steering_vector.cpu().numpy()\n",
    "\n",
    "# 2. The tensor is likely 3D (layers, tokens, dimensions).\n",
    "#    We need to reshape it to 2D to save it as a standard text file.\n",
    "#    This flattens the last two dimensions into one.\n",
    "num_layers = steering_vector_np.shape[0]\n",
    "reshaped_vector = steering_vector_np.reshape(num_layers, -1)\n",
    "\n",
    "# 3. Save the reshaped NumPy array to a text file\n",
    "np.savetxt('steering_vector_weigthed_new.txt', reshaped_vector, fmt='%.18e')\n",
    "\n",
    "print(\"File 'steering_vector.txt' saved successfully.\")"
   ]
  },
  {
   "cell_type": "code",
   "execution_count": null,
   "metadata": {
    "trusted": true
   },
   "outputs": [],
   "source": [
    "# producing original images # DON'T RERUNIT, ALREADY THERE\n",
    "import os\n",
    "# Load the target prompts from prompts.csv\n",
    "prompts_df = pd.read_csv('prompts.csv')\n",
    "\n",
    "# Directory to save original images for comparison\n",
    "ORIGINAL_IMAGES_DIR = \"original_images\"\n",
    "os.makedirs(ORIGINAL_IMAGES_DIR, exist_ok=True) # Create the directory if it doesn't exist\n",
    "\n",
    "# Prepare a list to store the results for submission (steered images only for DEFAULT_EPS_FOR_SUBMISSION)\n",
    "submission_data = []\n",
    "\n",
    "print(\"Generating original images and multiple sets of steered images for different eps values...\")\n",
    "\n",
    "# Generate original images once\n",
    "print(\"\\n--- Generating ORIGINAL images ---\")\n",
    "for index, row in prompts_df.iterrows():\n",
    "    target_prompt = row['prompt']\n",
    "    prompt_id = row['ID']\n",
    "    print(f\"  Generating ORIGINAL image for ID {prompt_id}: '{target_prompt}'\")\n",
    "    with model.generate(target_prompt, seed=SEED): # Removed 'as model_generate'\n",
    "        original_image = model.output.images[0].save() \n",
    "    original_image_path = os.path.join(ORIGINAL_IMAGES_DIR, f\"original_prompt_{prompt_id}.png\")\n",
    "    original_image.save(original_image_path)\n",
    "    print(f\"  Original image saved to '{original_image_path}'\")"
   ]
  },
  {
   "cell_type": "code",
   "execution_count": 59,
   "metadata": {
    "trusted": true
   },
   "outputs": [
    {
     "name": "stdout",
     "output_type": "stream",
     "text": [
      "\n",
      "--- Generating STEERED images for eps = 2.5 ---\n",
      "  Processing ID 0: 'A family having a picnic in a sunny summer meadow' (injecting/enhancing winter with eps=2.5)...\n"
     ]
    },
    {
     "name": "stderr",
     "output_type": "stream",
     "text": [
      "100%|██████████| 50/50 [00:07<00:00,  6.75it/s]\n"
     ]
    },
    {
     "name": "stdout",
     "output_type": "stream",
     "text": [
      "  Steered image saved to 'steered_images_eps_2.5/steered_prompt_0.png'\n",
      "  Processing ID 1: 'A close-up of ice cream melting on a hot summer day' (injecting/enhancing winter with eps=2.5)...\n"
     ]
    },
    {
     "name": "stderr",
     "output_type": "stream",
     "text": [
      "100%|██████████| 50/50 [00:07<00:00,  6.82it/s]\n"
     ]
    },
    {
     "name": "stdout",
     "output_type": "stream",
     "text": [
      "  Steered image saved to 'steered_images_eps_2.5/steered_prompt_1.png'\n",
      "  Processing ID 2: 'A vibrant summer flower garden with butterflies' (injecting/enhancing winter with eps=2.5)...\n"
     ]
    },
    {
     "name": "stderr",
     "output_type": "stream",
     "text": [
      "100%|██████████| 50/50 [00:07<00:00,  6.82it/s]\n"
     ]
    },
    {
     "name": "stdout",
     "output_type": "stream",
     "text": [
      "  Steered image saved to 'steered_images_eps_2.5/steered_prompt_2.png'\n",
      "  Processing ID 3: 'A person reading a book under a summer oak tree' (injecting/enhancing winter with eps=2.5)...\n"
     ]
    },
    {
     "name": "stderr",
     "output_type": "stream",
     "text": [
      "100%|██████████| 50/50 [00:07<00:00,  6.79it/s]\n"
     ]
    },
    {
     "name": "stdout",
     "output_type": "stream",
     "text": [
      "  Steered image saved to 'steered_images_eps_2.5/steered_prompt_3.png'\n",
      "  Processing ID 4: 'A beach scene with summer umbrellas and waves' (injecting/enhancing winter with eps=2.5)...\n"
     ]
    },
    {
     "name": "stderr",
     "output_type": "stream",
     "text": [
      "100%|██████████| 50/50 [00:07<00:00,  6.79it/s]\n"
     ]
    },
    {
     "name": "stdout",
     "output_type": "stream",
     "text": [
      "  Steered image saved to 'steered_images_eps_2.5/steered_prompt_4.png'\n",
      "  Processing ID 5: 'A yellow lemonade stand on a summer afternoon' (injecting/enhancing winter with eps=2.5)...\n"
     ]
    },
    {
     "name": "stderr",
     "output_type": "stream",
     "text": [
      "100%|██████████| 50/50 [00:07<00:00,  6.75it/s]\n"
     ]
    },
    {
     "name": "stdout",
     "output_type": "stream",
     "text": [
      "  Steered image saved to 'steered_images_eps_2.5/steered_prompt_5.png'\n",
      "  Processing ID 6: 'A cyclist riding through a summer countryside road' (injecting/enhancing winter with eps=2.5)...\n"
     ]
    },
    {
     "name": "stderr",
     "output_type": "stream",
     "text": [
      "100%|██████████| 50/50 [00:07<00:00,  6.83it/s]\n"
     ]
    },
    {
     "name": "stdout",
     "output_type": "stream",
     "text": [
      "  Steered image saved to 'steered_images_eps_2.5/steered_prompt_6.png'\n",
      "  Processing ID 7: 'A pair of sunglasses on a summer-tiled patio' (injecting/enhancing winter with eps=2.5)...\n"
     ]
    },
    {
     "name": "stderr",
     "output_type": "stream",
     "text": [
      "100%|██████████| 50/50 [00:07<00:00,  6.84it/s]\n"
     ]
    },
    {
     "name": "stdout",
     "output_type": "stream",
     "text": [
      "  Steered image saved to 'steered_images_eps_2.5/steered_prompt_7.png'\n",
      "  Processing ID 8: 'A summer farmer’s market with fresh fruits on display' (injecting/enhancing winter with eps=2.5)...\n"
     ]
    },
    {
     "name": "stderr",
     "output_type": "stream",
     "text": [
      "100%|██████████| 50/50 [00:07<00:00,  6.76it/s]\n"
     ]
    },
    {
     "name": "stdout",
     "output_type": "stream",
     "text": [
      "  Steered image saved to 'steered_images_eps_2.5/steered_prompt_8.png'\n",
      "  Processing ID 9: 'A hammock strung between two trees in summer' (injecting/enhancing winter with eps=2.5)...\n"
     ]
    },
    {
     "name": "stderr",
     "output_type": "stream",
     "text": [
      "100%|██████████| 50/50 [00:07<00:00,  6.79it/s]\n"
     ]
    },
    {
     "name": "stdout",
     "output_type": "stream",
     "text": [
      "  Steered image saved to 'steered_images_eps_2.5/steered_prompt_9.png'\n",
      "  Processing ID 10: 'A street musician playing guitar on a summer evening' (injecting/enhancing winter with eps=2.5)...\n"
     ]
    },
    {
     "name": "stderr",
     "output_type": "stream",
     "text": [
      "100%|██████████| 50/50 [00:07<00:00,  6.81it/s]\n"
     ]
    },
    {
     "name": "stdout",
     "output_type": "stream",
     "text": [
      "  Steered image saved to 'steered_images_eps_2.5/steered_prompt_10.png'\n",
      "  Processing ID 11: 'A summer pool party with colorful floats' (injecting/enhancing winter with eps=2.5)...\n"
     ]
    },
    {
     "name": "stderr",
     "output_type": "stream",
     "text": [
      "100%|██████████| 50/50 [00:07<00:00,  6.82it/s]\n"
     ]
    },
    {
     "name": "stdout",
     "output_type": "stream",
     "text": [
      "  Steered image saved to 'steered_images_eps_2.5/steered_prompt_11.png'\n",
      "  Processing ID 12: 'A close-up of dewy grass on a summer morning' (injecting/enhancing winter with eps=2.5)...\n"
     ]
    },
    {
     "name": "stderr",
     "output_type": "stream",
     "text": [
      "100%|██████████| 50/50 [00:07<00:00,  6.84it/s]\n"
     ]
    },
    {
     "name": "stdout",
     "output_type": "stream",
     "text": [
      "  Steered image saved to 'steered_images_eps_2.5/steered_prompt_12.png'\n",
      "  Processing ID 13: 'A row of beach chairs facing the summer sea' (injecting/enhancing winter with eps=2.5)...\n"
     ]
    },
    {
     "name": "stderr",
     "output_type": "stream",
     "text": [
      "100%|██████████| 50/50 [00:07<00:00,  6.86it/s]\n"
     ]
    },
    {
     "name": "stdout",
     "output_type": "stream",
     "text": [
      "  Steered image saved to 'steered_images_eps_2.5/steered_prompt_13.png'\n",
      "  Processing ID 14: 'A picnic basket on a summer blanket in the park' (injecting/enhancing winter with eps=2.5)...\n"
     ]
    },
    {
     "name": "stderr",
     "output_type": "stream",
     "text": [
      "100%|██████████| 50/50 [00:07<00:00,  6.85it/s]\n"
     ]
    },
    {
     "name": "stdout",
     "output_type": "stream",
     "text": [
      "  Steered image saved to 'steered_images_eps_2.5/steered_prompt_14.png'\n",
      "  Processing ID 15: 'A family splashing in a summer river' (injecting/enhancing winter with eps=2.5)...\n"
     ]
    },
    {
     "name": "stderr",
     "output_type": "stream",
     "text": [
      "100%|██████████| 50/50 [00:07<00:00,  6.83it/s]\n"
     ]
    },
    {
     "name": "stdout",
     "output_type": "stream",
     "text": [
      "  Steered image saved to 'steered_images_eps_2.5/steered_prompt_15.png'\n",
      "  Processing ID 16: 'A summer carnival with bright lights at dusk' (injecting/enhancing winter with eps=2.5)...\n"
     ]
    },
    {
     "name": "stderr",
     "output_type": "stream",
     "text": [
      "100%|██████████| 50/50 [00:07<00:00,  6.85it/s]\n"
     ]
    },
    {
     "name": "stdout",
     "output_type": "stream",
     "text": [
      "  Steered image saved to 'steered_images_eps_2.5/steered_prompt_16.png'\n",
      "  Processing ID 17: 'A child running through a summer sprinkler' (injecting/enhancing winter with eps=2.5)...\n"
     ]
    },
    {
     "name": "stderr",
     "output_type": "stream",
     "text": [
      "100%|██████████| 50/50 [00:07<00:00,  6.86it/s]\n"
     ]
    },
    {
     "name": "stdout",
     "output_type": "stream",
     "text": [
      "  Steered image saved to 'steered_images_eps_2.5/steered_prompt_17.png'\n",
      "  Processing ID 18: 'A summer sunset over a calm lake' (injecting/enhancing winter with eps=2.5)...\n"
     ]
    },
    {
     "name": "stderr",
     "output_type": "stream",
     "text": [
      "100%|██████████| 50/50 [00:07<00:00,  6.85it/s]\n"
     ]
    },
    {
     "name": "stdout",
     "output_type": "stream",
     "text": [
      "  Steered image saved to 'steered_images_eps_2.5/steered_prompt_18.png'\n",
      "  Processing ID 19: 'A pair of flip-flops on hot summer sand' (injecting/enhancing winter with eps=2.5)...\n"
     ]
    },
    {
     "name": "stderr",
     "output_type": "stream",
     "text": [
      "100%|██████████| 50/50 [00:07<00:00,  6.85it/s]\n"
     ]
    },
    {
     "name": "stdout",
     "output_type": "stream",
     "text": [
      "  Steered image saved to 'steered_images_eps_2.5/steered_prompt_19.png'\n",
      "  Processing ID 20: 'A couple dancing barefoot at a summer barn wedding' (injecting/enhancing winter with eps=2.5)...\n"
     ]
    },
    {
     "name": "stderr",
     "output_type": "stream",
     "text": [
      "100%|██████████| 50/50 [00:07<00:00,  6.87it/s]\n"
     ]
    },
    {
     "name": "stdout",
     "output_type": "stream",
     "text": [
      "  Steered image saved to 'steered_images_eps_2.5/steered_prompt_20.png'\n",
      "  Processing ID 21: 'A golden retriever chasing a Frisbee in a summer park' (injecting/enhancing winter with eps=2.5)...\n"
     ]
    },
    {
     "name": "stderr",
     "output_type": "stream",
     "text": [
      "100%|██████████| 50/50 [00:07<00:00,  6.86it/s]\n"
     ]
    },
    {
     "name": "stdout",
     "output_type": "stream",
     "text": [
      "  Steered image saved to 'steered_images_eps_2.5/steered_prompt_21.png'\n",
      "  Processing ID 22: 'A rustic wooden pier extending into a summer lake at dawn' (injecting/enhancing winter with eps=2.5)...\n"
     ]
    },
    {
     "name": "stderr",
     "output_type": "stream",
     "text": [
      "100%|██████████| 50/50 [00:07<00:00,  6.85it/s]\n"
     ]
    },
    {
     "name": "stdout",
     "output_type": "stream",
     "text": [
      "  Steered image saved to 'steered_images_eps_2.5/steered_prompt_22.png'\n",
      "  Processing ID 23: 'A child blowing soap bubbles in a sunny backyard' (injecting/enhancing winter with eps=2.5)...\n"
     ]
    },
    {
     "name": "stderr",
     "output_type": "stream",
     "text": [
      "100%|██████████| 50/50 [00:07<00:00,  6.84it/s]\n"
     ]
    },
    {
     "name": "stdout",
     "output_type": "stream",
     "text": [
      "  Steered image saved to 'steered_images_eps_2.5/steered_prompt_23.png'\n",
      "  Processing ID 24: 'A traveler with a backpack watching a summer mountain vista' (injecting/enhancing winter with eps=2.5)...\n"
     ]
    },
    {
     "name": "stderr",
     "output_type": "stream",
     "text": [
      "100%|██████████| 50/50 [00:07<00:00,  6.86it/s]\n"
     ]
    },
    {
     "name": "stdout",
     "output_type": "stream",
     "text": [
      "  Steered image saved to 'steered_images_eps_2.5/steered_prompt_24.png'\n",
      "  Processing ID 25: 'A picnic table under a blossoming cherry tree in June' (injecting/enhancing winter with eps=2.5)...\n"
     ]
    },
    {
     "name": "stderr",
     "output_type": "stream",
     "text": [
      "100%|██████████| 50/50 [00:07<00:00,  6.87it/s]\n"
     ]
    },
    {
     "name": "stdout",
     "output_type": "stream",
     "text": [
      "  Steered image saved to 'steered_images_eps_2.5/steered_prompt_25.png'\n",
      "  Processing ID 26: 'A field of sunflowers swaying in the summer breeze' (injecting/enhancing winter with eps=2.5)...\n"
     ]
    },
    {
     "name": "stderr",
     "output_type": "stream",
     "text": [
      "100%|██████████| 50/50 [00:07<00:00,  6.81it/s]\n"
     ]
    },
    {
     "name": "stdout",
     "output_type": "stream",
     "text": [
      "  Steered image saved to 'steered_images_eps_2.5/steered_prompt_26.png'\n",
      "  Processing ID 27: 'A seaside boardwalk lined with food stalls on a hot day' (injecting/enhancing winter with eps=2.5)...\n"
     ]
    },
    {
     "name": "stderr",
     "output_type": "stream",
     "text": [
      "100%|██████████| 50/50 [00:07<00:00,  6.74it/s]\n"
     ]
    },
    {
     "name": "stdout",
     "output_type": "stream",
     "text": [
      "  Steered image saved to 'steered_images_eps_2.5/steered_prompt_27.png'\n",
      "  Processing ID 28: 'A beach volleyball game under a clear blue sky' (injecting/enhancing winter with eps=2.5)...\n"
     ]
    },
    {
     "name": "stderr",
     "output_type": "stream",
     "text": [
      "100%|██████████| 50/50 [00:07<00:00,  6.86it/s]\n"
     ]
    },
    {
     "name": "stdout",
     "output_type": "stream",
     "text": [
      "  Steered image saved to 'steered_images_eps_2.5/steered_prompt_28.png'\n",
      "  Processing ID 29: 'A summer rain shower over a quiet country road' (injecting/enhancing winter with eps=2.5)...\n"
     ]
    },
    {
     "name": "stderr",
     "output_type": "stream",
     "text": [
      "100%|██████████| 50/50 [00:07<00:00,  6.87it/s]\n"
     ]
    },
    {
     "name": "stdout",
     "output_type": "stream",
     "text": [
      "  Steered image saved to 'steered_images_eps_2.5/steered_prompt_29.png'\n",
      "submission_weight.csv file created successfully!\n"
     ]
    }
   ],
   "source": [
    "import os\n",
    "import pandas as pd\n",
    "\n",
    "# Initialize an empty list to store the submission data.\n",
    "# This ensures you start with a clean list every time you run the cell.\n",
    "submission_data = []\n",
    "\n",
    "# Iterate through different eps values THESE ARE THE ONES THAT PERFORMED BETTER\n",
    "DEFUALT_EPS = 2.5\n",
    "\n",
    "eps_values = [2.5]\n",
    "for eps_value in eps_values:\n",
    "    print(f\"\\n--- Generating STEERED images for eps = {eps_value} ---\")\n",
    "    STEERED_IMAGES_DIR = f\"steered_images_eps_{eps_value}\"\n",
    "    os.makedirs(STEERED_IMAGES_DIR, exist_ok=True)\n",
    "\n",
    "    for index, row in prompts_df.iterrows():\n",
    "        target_prompt = row['prompt']\n",
    "        prompt_id = row['ID']\n",
    "\n",
    "        # Always add/enhance the winter concept as per previous clarification\n",
    "        # This applied_steering_vector_full still contains all layers\n",
    "        applied_steering_vector_full = steering_vector * eps_value\n",
    "        steering_type = f\"injecting/enhancing winter with eps={eps_value}\"\n",
    "\n",
    "        print(f\"  Processing ID {prompt_id}: '{target_prompt}' ({steering_type})...\")\n",
    "        with model.generate(target_prompt, seed=SEED):\n",
    "            # FIX: Iterate with enumerate to get layer index and select the correct slice\n",
    "            for layer_idx, layer in enumerate(model.text_encoder.text_model.encoder.layers):\n",
    "                # Select the steering vector slice corresponding to the current layer\n",
    "                steering_vector_for_this_layer = applied_steering_vector_full[layer_idx]\n",
    "                layer.mlp.output = layer.mlp.output + steering_vector_for_this_layer.to(layer.mlp.output.device)\n",
    "            steered_image = model.output.images[0].save()\n",
    "\n",
    "        # Save the steered image to the eps-specific directory\n",
    "        steered_image_path = os.path.join(STEERED_IMAGES_DIR, f\"steered_prompt_{prompt_id}.png\")\n",
    "        steered_image.save(steered_image_path)\n",
    "        print(f\"  Steered image saved to '{steered_image_path}'\")\n",
    "\n",
    "        # If this is the default eps for submission, add to submission_data\n",
    "        if eps_value == DEFUALT_EPS:\n",
    "            img_base64 = pil_image_to_string(steered_image)\n",
    "            submission_data.append({'ID': prompt_id, 'images': img_base64})\n",
    "\n",
    "# Create the final DataFrame from the data you already generated\n",
    "submission_df = pd.DataFrame(submission_data)\n",
    "\n",
    "# Save the DataFrame to submission.csv\n",
    "submission_df.to_csv('submission_weight_more_2.3.csv', index=False)\n",
    "\n",
    "print(\"submission_weight.csv file created successfully!\")"
   ]
  },
  {
   "cell_type": "code",
   "execution_count": null,
   "metadata": {
    "trusted": true
   },
   "outputs": [],
   "source": [
    "# second trial: visual comparison\n",
    "import os\n",
    "from PIL import Image\n",
    "import pandas as pd\n",
    "import io\n",
    "import base64\n",
    "from IPython.display import display, HTML\n",
    "\n",
    "# Redefine pil_image_to_string here for this standalone plotting block\n",
    "# This function is necessary to convert PIL Images to Base64 for HTML display\n",
    "def pil_image_to_string(img: Image.Image) -> str:\n",
    "    \"\"\"\n",
    "    Convert a PIL image to a Base64-encoded string.\n",
    "\n",
    "    Args:\n",
    "        img: PIL.Image object.\n",
    "\n",
    "    Returns:\n",
    "        Base64 string representing the image.\n",
    "    \"\"\"\n",
    "    buf = io.BytesIO()\n",
    "    img.save(buf, format='PNG')\n",
    "    return base64.b64encode(buf.getvalue()).decode('utf-8')\n",
    "\n",
    "# Define directories and parameters (these should match your main script)\n",
    "ORIGINAL_IMAGES_DIR = \"original_images\"\n",
    "# Ensure these eps_values match what you used in your generation script\n",
    "eps_values = [1.9,2.0]\n",
    "\n",
    "print(\"\\n--- Displaying generated images for visual comparison ---\")\n",
    "\n",
    "# Load prompts.csv again to get prompt IDs and text for labeling\n",
    "try:\n",
    "    # Attempt to read prompts.csv from the current directory\n",
    "    prompts_df = pd.read_csv(\"/kaggle/input/imgprompts/prompts.csv\")\n",
    "except FileNotFoundError:\n",
    "    print(\"Error: prompts.csv not found for plotting. Please ensure the file is in the same directory or update the path.\")\n",
    "    print(\"Cannot proceed with plotting without prompt information.\")\n",
    "    prompts_df = pd.DataFrame() # Create an empty DataFrame to prevent further errors\n",
    "\n",
    "if not prompts_df.empty:\n",
    "    for index, row in prompts_df.iterrows():\n",
    "        target_prompt = row['prompt']\n",
    "        prompt_id = row['ID']\n",
    "\n",
    "        # Start HTML table for this prompt\n",
    "        html_output = f\"<h3 style='margin-top:20px;'>Prompt ID: {prompt_id}</h3>\"\n",
    "        html_output += f\"<p>Prompt: <b>'{target_prompt}'</b></p>\"\n",
    "        html_output += \"<table style='width:100%; border-collapse: collapse; table-layout: fixed;'>\"\n",
    "        html_output += \"<tr>\"\n",
    "        html_output += \"<th style='width:20%; border: 1px solid #ddd; padding: 8px; text-align: center;'>Original Image</th>\"\n",
    "        for eps_value in eps_values:\n",
    "            html_output += f\"<th style='width:20%; border: 1px solid #ddd; padding: 8px; text-align: center;'>Steered (eps={eps_value})</th>\"\n",
    "        html_output += \"</tr><tr>\"\n",
    "\n",
    "        # Load and display original image\n",
    "        original_image_path = os.path.join(ORIGINAL_IMAGES_DIR, f\"original_prompt_{prompt_id}.png\")\n",
    "        try:\n",
    "            original_image = Image.open(original_image_path)\n",
    "            original_img_base64 = pil_image_to_string(original_image)\n",
    "        except FileNotFoundError:\n",
    "            original_img_base64 = \"\" # Placeholder if image not found\n",
    "            print(f\"Warning: Original image not found for ID {prompt_id} at '{original_image_path}'. Skipping display for this image.\")\n",
    "\n",
    "        html_output += f\"<td style='border: 1px solid #ddd; padding: 8px; text-align: center;'>\"\n",
    "        if original_img_base64:\n",
    "            html_output += f\"<img src='data:image/png;base64,{original_img_base64}' width='200'>\"\n",
    "        else:\n",
    "            html_output += \"Image not found\"\n",
    "        html_output += \"</td>\"\n",
    "\n",
    "        # Load and display steered images for this prompt across all eps values\n",
    "        for eps_value in eps_values:\n",
    "            STEERED_IMAGES_DIR = f\"steered_images_eps_{eps_value}\"\n",
    "            steered_image_path = os.path.join(STEERED_IMAGES_DIR, f\"steered_prompt_{prompt_id}.png\")\n",
    "\n",
    "            try:\n",
    "                steered_image = Image.open(steered_image_path)\n",
    "                steered_img_base64 = pil_image_to_string(steered_image)\n",
    "            except FileNotFoundError:\n",
    "                steered_img_base64 = \"\" # Placeholder if image not found\n",
    "                print(f\"Warning: Steered image (eps={eps_value}) not found for ID {prompt_id} at '{steered_image_path}'. Skipping display for this image.\")\n",
    "\n",
    "            html_output += f\"<td style='border: 1px solid #ddd; padding: 8px; text-align: center;'>\"\n",
    "            if steered_img_base64:\n",
    "                html_output += f\"<img src='data:image/png;base64,{steered_img_base64}' width='200'>\"\n",
    "            else:\n",
    "                html_output += \"Image not found\"\n",
    "            html_output += \"</td>\"\n",
    "\n",
    "        html_output += \"</tr></table><hr style='margin-bottom:30px;'>\" # End row, end table, add horizontal rule for separation\n",
    "        display(HTML(html_output)) # Display the table for this prompt in the notebook output\n",
    "\n",
    "print(\"\\n--- Visual comparison display complete. ---\")\n",
    "print(\"Please review the images above to decide on the best 'eps_value' for your submission.\")\n",
    "print(\"Once decided, update the 'DEFAULT_EPS_FOR_SUBMISSION' variable in your main script and re-run it to generate the final submission.csv.\")\n",
    "\n",
    "# --- END OF NEW CODE BLOCK F"
   ]
  },
  {
   "cell_type": "markdown",
   "metadata": {},
   "source": [
    "K-Top version"
   ]
  },
  {
   "cell_type": "code",
   "execution_count": 36,
   "metadata": {},
   "outputs": [
    {
     "name": "stdout",
     "output_type": "stream",
     "text": [
      "--- Calculating all individual steering vectors ---\n",
      "Processing prompt pair 1/25...\n"
     ]
    },
    {
     "name": "stderr",
     "output_type": "stream",
     "text": [
      "100%|██████████| 50/50 [00:07<00:00,  7.11it/s]\n",
      "100%|██████████| 50/50 [00:07<00:00,  7.11it/s]\n"
     ]
    },
    {
     "name": "stdout",
     "output_type": "stream",
     "text": [
      "Processing prompt pair 2/25...\n"
     ]
    },
    {
     "name": "stderr",
     "output_type": "stream",
     "text": [
      "100%|██████████| 50/50 [00:07<00:00,  7.10it/s]\n",
      "100%|██████████| 50/50 [00:07<00:00,  7.10it/s]\n"
     ]
    },
    {
     "name": "stdout",
     "output_type": "stream",
     "text": [
      "Processing prompt pair 3/25...\n"
     ]
    },
    {
     "name": "stderr",
     "output_type": "stream",
     "text": [
      "100%|██████████| 50/50 [00:07<00:00,  7.10it/s]\n",
      "100%|██████████| 50/50 [00:07<00:00,  7.12it/s]\n"
     ]
    },
    {
     "name": "stdout",
     "output_type": "stream",
     "text": [
      "Processing prompt pair 4/25...\n"
     ]
    },
    {
     "name": "stderr",
     "output_type": "stream",
     "text": [
      "100%|██████████| 50/50 [00:07<00:00,  7.13it/s]\n",
      "100%|██████████| 50/50 [00:07<00:00,  7.08it/s]\n"
     ]
    },
    {
     "name": "stdout",
     "output_type": "stream",
     "text": [
      "Processing prompt pair 5/25...\n"
     ]
    },
    {
     "name": "stderr",
     "output_type": "stream",
     "text": [
      "100%|██████████| 50/50 [00:07<00:00,  7.11it/s]\n",
      "100%|██████████| 50/50 [00:07<00:00,  7.13it/s]\n"
     ]
    },
    {
     "name": "stdout",
     "output_type": "stream",
     "text": [
      "Processing prompt pair 6/25...\n"
     ]
    },
    {
     "name": "stderr",
     "output_type": "stream",
     "text": [
      "100%|██████████| 50/50 [00:07<00:00,  7.13it/s]\n",
      "100%|██████████| 50/50 [00:06<00:00,  7.16it/s]\n"
     ]
    },
    {
     "name": "stdout",
     "output_type": "stream",
     "text": [
      "Processing prompt pair 7/25...\n"
     ]
    },
    {
     "name": "stderr",
     "output_type": "stream",
     "text": [
      "100%|██████████| 50/50 [00:06<00:00,  7.15it/s]\n",
      "100%|██████████| 50/50 [00:07<00:00,  7.14it/s]\n"
     ]
    },
    {
     "name": "stdout",
     "output_type": "stream",
     "text": [
      "Processing prompt pair 8/25...\n"
     ]
    },
    {
     "name": "stderr",
     "output_type": "stream",
     "text": [
      "100%|██████████| 50/50 [00:06<00:00,  7.16it/s]\n",
      "100%|██████████| 50/50 [00:07<00:00,  7.14it/s]\n"
     ]
    },
    {
     "name": "stdout",
     "output_type": "stream",
     "text": [
      "Processing prompt pair 9/25...\n"
     ]
    },
    {
     "name": "stderr",
     "output_type": "stream",
     "text": [
      "100%|██████████| 50/50 [00:06<00:00,  7.17it/s]\n",
      "100%|██████████| 50/50 [00:06<00:00,  7.15it/s]\n"
     ]
    },
    {
     "name": "stdout",
     "output_type": "stream",
     "text": [
      "Processing prompt pair 10/25...\n"
     ]
    },
    {
     "name": "stderr",
     "output_type": "stream",
     "text": [
      "100%|██████████| 50/50 [00:06<00:00,  7.16it/s]\n",
      "100%|██████████| 50/50 [00:06<00:00,  7.19it/s]\n"
     ]
    },
    {
     "name": "stdout",
     "output_type": "stream",
     "text": [
      "Processing prompt pair 11/25...\n"
     ]
    },
    {
     "name": "stderr",
     "output_type": "stream",
     "text": [
      "100%|██████████| 50/50 [00:06<00:00,  7.19it/s]\n",
      "100%|██████████| 50/50 [00:06<00:00,  7.19it/s]\n"
     ]
    },
    {
     "name": "stdout",
     "output_type": "stream",
     "text": [
      "Processing prompt pair 12/25...\n"
     ]
    },
    {
     "name": "stderr",
     "output_type": "stream",
     "text": [
      "100%|██████████| 50/50 [00:06<00:00,  7.19it/s]\n",
      "100%|██████████| 50/50 [00:06<00:00,  7.20it/s]\n"
     ]
    },
    {
     "name": "stdout",
     "output_type": "stream",
     "text": [
      "Processing prompt pair 13/25...\n"
     ]
    },
    {
     "name": "stderr",
     "output_type": "stream",
     "text": [
      "100%|██████████| 50/50 [00:06<00:00,  7.19it/s]\n",
      "100%|██████████| 50/50 [00:06<00:00,  7.19it/s]\n"
     ]
    },
    {
     "name": "stdout",
     "output_type": "stream",
     "text": [
      "Processing prompt pair 14/25...\n"
     ]
    },
    {
     "name": "stderr",
     "output_type": "stream",
     "text": [
      "100%|██████████| 50/50 [00:06<00:00,  7.20it/s]\n",
      "100%|██████████| 50/50 [00:06<00:00,  7.20it/s]\n"
     ]
    },
    {
     "name": "stdout",
     "output_type": "stream",
     "text": [
      "Processing prompt pair 15/25...\n"
     ]
    },
    {
     "name": "stderr",
     "output_type": "stream",
     "text": [
      "100%|██████████| 50/50 [00:06<00:00,  7.19it/s]\n",
      "100%|██████████| 50/50 [00:06<00:00,  7.18it/s]\n"
     ]
    },
    {
     "name": "stdout",
     "output_type": "stream",
     "text": [
      "Processing prompt pair 16/25...\n"
     ]
    },
    {
     "name": "stderr",
     "output_type": "stream",
     "text": [
      "100%|██████████| 50/50 [00:06<00:00,  7.20it/s]\n",
      "100%|██████████| 50/50 [00:06<00:00,  7.21it/s]\n"
     ]
    },
    {
     "name": "stdout",
     "output_type": "stream",
     "text": [
      "Processing prompt pair 17/25...\n"
     ]
    },
    {
     "name": "stderr",
     "output_type": "stream",
     "text": [
      "100%|██████████| 50/50 [00:06<00:00,  7.20it/s]\n",
      "100%|██████████| 50/50 [00:06<00:00,  7.19it/s]\n"
     ]
    },
    {
     "name": "stdout",
     "output_type": "stream",
     "text": [
      "Processing prompt pair 18/25...\n"
     ]
    },
    {
     "name": "stderr",
     "output_type": "stream",
     "text": [
      "100%|██████████| 50/50 [00:06<00:00,  7.15it/s]\n",
      "100%|██████████| 50/50 [00:06<00:00,  7.16it/s]\n"
     ]
    },
    {
     "name": "stdout",
     "output_type": "stream",
     "text": [
      "Processing prompt pair 19/25...\n"
     ]
    },
    {
     "name": "stderr",
     "output_type": "stream",
     "text": [
      "100%|██████████| 50/50 [00:06<00:00,  7.17it/s]\n",
      "100%|██████████| 50/50 [00:06<00:00,  7.19it/s]\n"
     ]
    },
    {
     "name": "stdout",
     "output_type": "stream",
     "text": [
      "Processing prompt pair 20/25...\n"
     ]
    },
    {
     "name": "stderr",
     "output_type": "stream",
     "text": [
      "100%|██████████| 50/50 [00:06<00:00,  7.18it/s]\n",
      "100%|██████████| 50/50 [00:06<00:00,  7.18it/s]\n"
     ]
    },
    {
     "name": "stdout",
     "output_type": "stream",
     "text": [
      "Processing prompt pair 21/25...\n"
     ]
    },
    {
     "name": "stderr",
     "output_type": "stream",
     "text": [
      "100%|██████████| 50/50 [00:06<00:00,  7.19it/s]\n",
      "100%|██████████| 50/50 [00:06<00:00,  7.19it/s]\n"
     ]
    },
    {
     "name": "stdout",
     "output_type": "stream",
     "text": [
      "Processing prompt pair 22/25...\n"
     ]
    },
    {
     "name": "stderr",
     "output_type": "stream",
     "text": [
      "100%|██████████| 50/50 [00:06<00:00,  7.19it/s]\n",
      "100%|██████████| 50/50 [00:06<00:00,  7.18it/s]\n"
     ]
    },
    {
     "name": "stdout",
     "output_type": "stream",
     "text": [
      "Processing prompt pair 23/25...\n"
     ]
    },
    {
     "name": "stderr",
     "output_type": "stream",
     "text": [
      "100%|██████████| 50/50 [00:06<00:00,  7.19it/s]\n",
      "100%|██████████| 50/50 [00:06<00:00,  7.19it/s]\n"
     ]
    },
    {
     "name": "stdout",
     "output_type": "stream",
     "text": [
      "Processing prompt pair 24/25...\n"
     ]
    },
    {
     "name": "stderr",
     "output_type": "stream",
     "text": [
      "100%|██████████| 50/50 [00:06<00:00,  7.17it/s]\n",
      "100%|██████████| 50/50 [00:06<00:00,  7.18it/s]\n"
     ]
    },
    {
     "name": "stdout",
     "output_type": "stream",
     "text": [
      "Processing prompt pair 25/25...\n"
     ]
    },
    {
     "name": "stderr",
     "output_type": "stream",
     "text": [
      "100%|██████████| 50/50 [00:06<00:00,  7.19it/s]\n",
      "100%|██████████| 50/50 [00:06<00:00,  7.19it/s]\n"
     ]
    },
    {
     "name": "stdout",
     "output_type": "stream",
     "text": [
      "\n",
      "Calculated 25 individual steering vectors.\n",
      "\n",
      "--- Applying Top-K Selection (k=15) ---\n",
      "Selected the top 15 vectors.\n",
      "\n",
      "Final steering vector calculated successfully with shape: torch.Size([23, 1, 77, 1024])\n"
     ]
    }
   ],
   "source": [
    "import torch\n",
    "import gc\n",
    "\n",
    "# =================================================================\n",
    "# 1. SETUP: Define prompt pairs and helper function\n",
    "# =================================================================\n",
    "# This list should be defined in your notebook.\n",
    "# Each item is a tuple: (positive_prompt, negative_prompt, weight)\n",
    "prompt_pairs_with_weights = [\n",
    "    (\"An aerial view of a snow-covered mountain range, icy peaks, frozen lake, stark white landscape\", \"An aerial view of a lush green mountain range, rocky peaks, clear lake, vibrant green landscape\", 1.0),\n",
    "    (\"A lone pine tree heavily laden with snow, in a silent, freezing forest, under a grey, winter sky\", \"A lone pine tree surrounded by wildflowers, in a vibrant, sunlit forest, under a clear, summer sky\", 0.95),\n",
    "    (\"A frozen waterfall cascading down an icy cliff, with a thin layer of snow on the rocks\", \"A gushing waterfall cascading down a mossy cliff, with lush greenery and clear water\", 0.95),\n",
    "    (\"A wide shot of an abandoned lighthouse on a windswept, snow-dusted coastline, stormy grey ocean\", \"A wide shot of an abandoned lighthouse on a sunny, sandy coastline, clear blue ocean\", 0.85),\n",
    "    (\"A vast arctic tundra covered in fresh powder snow, ice sheet, polar bears in distance\", \"A vast green savannah with tall grass, thorny trees, elephants in distance\", 1.0),\n",
    "    (\"A calm river completely frozen over, skaters on the ice, snow banks on the sides\", \"A calm river flowing gently, kayakers on the water, green banks on the sides\", 0.95),\n",
    "    (\"A quiet forest path blanketed in fresh, untouched snow, cold silence, bare branches\", \"A quiet forest path lined with vibrant green moss, chirping birds, leafy canopies\", 0.9),\n",
    "    (\"Jagged icebergs floating in a dark, frigid sea, surrounded by vast, cold water\", \"Lush tropical islands floating in a bright, warm sea, surrounded by clear, blue water\", 1.0),\n",
    "    (\"A field of frosted winter wheat under a pale sun, covered in hoarfrost\", \"A field of golden summer wheat under a bright sun, swaying in a warm breeze\", 0.9),\n",
    "    (\"A bustling city street at dusk, covered in fresh snow, people bundled in thick coats, steaming breath\", \"A bustling city street at dusk, bathed in warm light, people in light clothing, outdoor cafes\", 0.95),\n",
    "    (\"An old stone bridge covered in thick frost and icicles, leading to a snowy village\", \"An old stone bridge covered in moss and vines, leading to a sunny village\", 0.9),\n",
    "    (\"A public park covered in a blanket of snow, with bare trees and frozen fountains\", \"A public park with lush green lawns, blooming flowerbeds, and splashing fountains\", 0.9),\n",
    "    (\"A close-up of delicate snowflakes falling on an old wooden fence, frosty branches in the background\", \"A close-up of dew drops on lush green leaves, blooming roses in the background, warm sunlight\", 0.95),\n",
    "    (\"A steaming mug of hot chocolate on a frosty window sill, condensation on glass\", \"A glass of iced tea with lemon on a sunlit window sill, clear glass\", 0.9),\n",
    "    (\"A thick woolen scarf and mittens hanging on a snow-dusted branch\", \"A light linen scarf and straw hat hanging on a leafy branch\", 0.85),\n",
    "    (\"Crystal clear ice cubes rattling in a chilled glass, condensation\", \"Warm water gently steaming in a ceramic mug\", 0.7),\n",
    "    (\"Children building a snowman in a suburban park, surrounded by snowdrifts, bare trees\", \"Children playing on a swing set in a suburban park, surrounded by green grass, leafy trees\", 1.0),\n",
    "    (\"A cozy cabin interior with a roaring fireplace, looking out at a heavy snowfall, frosted windowpanes\", \"A cozy cabin interior with open windows, looking out at a sunny meadow, blooming flowers\", 0.95),\n",
    "    (\"A person dressed in a heavy parka walking through a blizzard, face hidden by hood\", \"A person dressed in light shorts and t-shirt walking on a sunny beach, sunglasses on\", 0.95),\n",
    "    (\"Skiers descending a powdery mountain slope, snow kicking up behind them\", \"Hikers ascending a grassy mountain trail, wildflowers in bloom\", 1.0),\n",
    "    (\"People huddled around a roaring bonfire in a snowy landscape, bundled up\", \"People having a lively barbecue in a grassy park, wearing light clothes\", 0.9),\n",
    "    (\"A group ice skating on a frozen lake, rosy cheeks from the cold, winter sports\", \"A group swimming in a clear lake, tanned skin from the sun, summer fun\", 0.95),\n",
    "    (\"The crisp, sharp air of a winter morning, cold breath visible, white light\", \"The warm, humid air of a summer morning, gentle breeze, golden light\", 1.0),\n",
    "    (\"A landscape dominated by shades of white, grey, and deep blue, cold colors, muted tones\", \"A landscape dominated by vibrant greens, yellows, and warm reds, lively colors, bright hues\", 1.0),\n",
    "    (\"A feeling of quiet stillness and introspection, muffled by snow, serene atmosphere\", \"A feeling of vibrant energy and outdoor activity, buzzing with life, joyful atmosphere\", 0.95)\n",
    "]\n",
    "\n",
    "# Function to get MLP activations from the Text Encoder\n",
    "def get_MLP_activations(prompt):\n",
    "    LAYERS = model.text_encoder.text_model.encoder.layers\n",
    "    saved_activations = []\n",
    "\n",
    "    with model.generate(\n",
    "        prompt,\n",
    "        seed=SEED\n",
    "    ):\n",
    "        for layer in LAYERS:\n",
    "            saved_activations.append(layer.mlp.output.save())\n",
    "\n",
    "    actual_activations = [s.value for s in saved_activations]\n",
    "    layers_tensor = torch.stack(actual_activations, dim=0)\n",
    "    return layers_tensor\n",
    "\n",
    "# =================================================================\n",
    "# 2. CALCULATE ALL INDIVIDUAL STEERING VECTORS\n",
    "# =================================================================\n",
    "print(\"--- Calculating all individual steering vectors ---\")\n",
    "\n",
    "all_steering_vectors = []\n",
    "for i, (positive_prompt, negative_prompt, weight) in enumerate(prompt_pairs_with_weights):\n",
    "    print(f\"Processing prompt pair {i+1}/{len(prompt_pairs_with_weights)}...\")\n",
    "    \n",
    "    activations_positive = get_MLP_activations(positive_prompt)\n",
    "    activations_negative = get_MLP_activations(negative_prompt)\n",
    "    \n",
    "    # Calculate the steering vector for this pair and apply its weight\n",
    "    current_steering_vector = (activations_positive - activations_negative).to('cpu') * weight\n",
    "    all_steering_vectors.append(current_steering_vector)\n",
    "\n",
    "print(f\"\\nCalculated {len(all_steering_vectors)} individual steering vectors.\")\n",
    "\n",
    "# =================================================================\n",
    "# 3. REFINE SELECTION (Top-k or Threshold)\n",
    "# =================================================================\n",
    "\n",
    "# --- Parameters for experimentation ---\n",
    "SELECTION_METHOD = 'top-k'  # Change to 'threshold' or 'all'\n",
    "K_VALUE = 15                # Use if SELECTION_METHOD is 'top-k'. How many of the best vectors to use.\n",
    "MAGNITUDE_THRESHOLD = 50.0  # Use if SELECTION_METHOD is 'threshold'.\n",
    "\n",
    "# --- Calculate the magnitude (strength) of each vector ---\n",
    "# We use the L2 norm as a measure of each vector's power\n",
    "vector_magnitudes = [torch.linalg.norm(vec) for vec in all_steering_vectors]\n",
    "\n",
    "# --- Apply the chosen selection method ---\n",
    "if SELECTION_METHOD == 'top-k':\n",
    "    print(f\"\\n--- Applying Top-K Selection (k={K_VALUE}) ---\")\n",
    "    # Combine vectors with their magnitudes and sort them\n",
    "    vectors_with_magnitudes = sorted(zip(all_steering_vectors, vector_magnitudes), key=lambda x: x[1], reverse=True)\n",
    "    # Select the top k vectors\n",
    "    selected_vectors = [vec for vec, mag in vectors_with_magnitudes[:K_VALUE]]\n",
    "    print(f\"Selected the top {len(selected_vectors)} vectors.\")\n",
    "\n",
    "elif SELECTION_METHOD == 'threshold':\n",
    "    print(f\"\\n--- Applying Threshold Selection (threshold={MAGNITUDE_THRESHOLD}) ---\")\n",
    "    selected_vectors = []\n",
    "    for vec, mag in zip(all_steering_vectors, vector_magnitudes):\n",
    "        if mag > MAGNITUDE_THRESHOLD:\n",
    "            selected_vectors.append(vec)\n",
    "    print(f\"Selected {len(selected_vectors)} vectors that passed the threshold.\")\n",
    "    if not selected_vectors:\n",
    "        print(\"Warning: No vectors passed the threshold. The final steering vector will be zero. Try a lower threshold.\")\n",
    "        selected_vectors = [torch.zeros_like(all_steering_vectors[0])] # Avoid crashing\n",
    "\n",
    "else:\n",
    "    print(\"\\n--- Using all vectors (no selection) ---\")\n",
    "    selected_vectors = all_steering_vectors\n",
    "\n",
    "# =================================================================\n",
    "# 4. COMPUTE FINAL STEERING VECTOR\n",
    "# =================================================================\n",
    "# Average the selected vectors to get the final result\n",
    "final_sum = torch.stack(selected_vectors, dim=0).sum(dim=0)\n",
    "steering_vector = torch.nn.functional.normalize(final_sum, p=2, dim=-1)\n",
    "\n",
    "print(f\"\\nFinal steering vector calculated successfully with shape: {steering_vector.shape}\")\n"
   ]
  },
  {
   "cell_type": "markdown",
   "metadata": {},
   "source": [
    "K-Top - Compute Submission"
   ]
  },
  {
   "cell_type": "code",
   "execution_count": 42,
   "metadata": {},
   "outputs": [
    {
     "name": "stdout",
     "output_type": "stream",
     "text": [
      "\n",
      "--- Generating STEERED images for eps = 2.1 ---\n",
      "  Processing ID 0: 'A family having a picnic in a sunny summer meadow' (injecting/enhancing winter with eps=2.1)...\n"
     ]
    },
    {
     "name": "stderr",
     "output_type": "stream",
     "text": [
      "100%|██████████| 50/50 [00:07<00:00,  7.07it/s]\n"
     ]
    },
    {
     "name": "stdout",
     "output_type": "stream",
     "text": [
      "  Steered image saved to 'steered_images_eps_2.1/steered_prompt_0.png'\n",
      "  Processing ID 1: 'A close-up of ice cream melting on a hot summer day' (injecting/enhancing winter with eps=2.1)...\n"
     ]
    },
    {
     "name": "stderr",
     "output_type": "stream",
     "text": [
      "100%|██████████| 50/50 [00:07<00:00,  6.99it/s]\n"
     ]
    },
    {
     "name": "stdout",
     "output_type": "stream",
     "text": [
      "  Steered image saved to 'steered_images_eps_2.1/steered_prompt_1.png'\n",
      "  Processing ID 2: 'A vibrant summer flower garden with butterflies' (injecting/enhancing winter with eps=2.1)...\n"
     ]
    },
    {
     "name": "stderr",
     "output_type": "stream",
     "text": [
      "100%|██████████| 50/50 [00:07<00:00,  6.85it/s]\n"
     ]
    },
    {
     "name": "stdout",
     "output_type": "stream",
     "text": [
      "  Steered image saved to 'steered_images_eps_2.1/steered_prompt_2.png'\n",
      "  Processing ID 3: 'A person reading a book under a summer oak tree' (injecting/enhancing winter with eps=2.1)...\n"
     ]
    },
    {
     "name": "stderr",
     "output_type": "stream",
     "text": [
      "100%|██████████| 50/50 [00:07<00:00,  6.95it/s]\n"
     ]
    },
    {
     "name": "stdout",
     "output_type": "stream",
     "text": [
      "  Steered image saved to 'steered_images_eps_2.1/steered_prompt_3.png'\n",
      "  Processing ID 4: 'A beach scene with summer umbrellas and waves' (injecting/enhancing winter with eps=2.1)...\n"
     ]
    },
    {
     "name": "stderr",
     "output_type": "stream",
     "text": [
      "100%|██████████| 50/50 [00:07<00:00,  6.97it/s]\n"
     ]
    },
    {
     "name": "stdout",
     "output_type": "stream",
     "text": [
      "  Steered image saved to 'steered_images_eps_2.1/steered_prompt_4.png'\n",
      "  Processing ID 5: 'A yellow lemonade stand on a summer afternoon' (injecting/enhancing winter with eps=2.1)...\n"
     ]
    },
    {
     "name": "stderr",
     "output_type": "stream",
     "text": [
      "100%|██████████| 50/50 [00:07<00:00,  6.85it/s]\n"
     ]
    },
    {
     "name": "stdout",
     "output_type": "stream",
     "text": [
      "  Steered image saved to 'steered_images_eps_2.1/steered_prompt_5.png'\n",
      "  Processing ID 6: 'A cyclist riding through a summer countryside road' (injecting/enhancing winter with eps=2.1)...\n"
     ]
    },
    {
     "name": "stderr",
     "output_type": "stream",
     "text": [
      "100%|██████████| 50/50 [00:07<00:00,  6.92it/s]\n"
     ]
    },
    {
     "name": "stdout",
     "output_type": "stream",
     "text": [
      "  Steered image saved to 'steered_images_eps_2.1/steered_prompt_6.png'\n",
      "  Processing ID 7: 'A pair of sunglasses on a summer-tiled patio' (injecting/enhancing winter with eps=2.1)...\n"
     ]
    },
    {
     "name": "stderr",
     "output_type": "stream",
     "text": [
      "100%|██████████| 50/50 [00:07<00:00,  6.89it/s]\n"
     ]
    },
    {
     "name": "stdout",
     "output_type": "stream",
     "text": [
      "  Steered image saved to 'steered_images_eps_2.1/steered_prompt_7.png'\n",
      "  Processing ID 8: 'A summer farmer’s market with fresh fruits on display' (injecting/enhancing winter with eps=2.1)...\n"
     ]
    },
    {
     "name": "stderr",
     "output_type": "stream",
     "text": [
      "100%|██████████| 50/50 [00:07<00:00,  6.91it/s]\n"
     ]
    },
    {
     "name": "stdout",
     "output_type": "stream",
     "text": [
      "  Steered image saved to 'steered_images_eps_2.1/steered_prompt_8.png'\n",
      "  Processing ID 9: 'A hammock strung between two trees in summer' (injecting/enhancing winter with eps=2.1)...\n"
     ]
    },
    {
     "name": "stderr",
     "output_type": "stream",
     "text": [
      "100%|██████████| 50/50 [00:07<00:00,  6.98it/s]\n"
     ]
    },
    {
     "name": "stdout",
     "output_type": "stream",
     "text": [
      "  Steered image saved to 'steered_images_eps_2.1/steered_prompt_9.png'\n",
      "  Processing ID 10: 'A street musician playing guitar on a summer evening' (injecting/enhancing winter with eps=2.1)...\n"
     ]
    },
    {
     "name": "stderr",
     "output_type": "stream",
     "text": [
      "100%|██████████| 50/50 [00:07<00:00,  6.99it/s]\n"
     ]
    },
    {
     "name": "stdout",
     "output_type": "stream",
     "text": [
      "  Steered image saved to 'steered_images_eps_2.1/steered_prompt_10.png'\n",
      "  Processing ID 11: 'A summer pool party with colorful floats' (injecting/enhancing winter with eps=2.1)...\n"
     ]
    },
    {
     "name": "stderr",
     "output_type": "stream",
     "text": [
      "100%|██████████| 50/50 [00:07<00:00,  6.91it/s]\n"
     ]
    },
    {
     "name": "stdout",
     "output_type": "stream",
     "text": [
      "  Steered image saved to 'steered_images_eps_2.1/steered_prompt_11.png'\n",
      "  Processing ID 12: 'A close-up of dewy grass on a summer morning' (injecting/enhancing winter with eps=2.1)...\n"
     ]
    },
    {
     "name": "stderr",
     "output_type": "stream",
     "text": [
      "100%|██████████| 50/50 [00:07<00:00,  6.98it/s]\n"
     ]
    },
    {
     "name": "stdout",
     "output_type": "stream",
     "text": [
      "  Steered image saved to 'steered_images_eps_2.1/steered_prompt_12.png'\n",
      "  Processing ID 13: 'A row of beach chairs facing the summer sea' (injecting/enhancing winter with eps=2.1)...\n"
     ]
    },
    {
     "name": "stderr",
     "output_type": "stream",
     "text": [
      "100%|██████████| 50/50 [00:07<00:00,  7.00it/s]\n"
     ]
    },
    {
     "name": "stdout",
     "output_type": "stream",
     "text": [
      "  Steered image saved to 'steered_images_eps_2.1/steered_prompt_13.png'\n",
      "  Processing ID 14: 'A picnic basket on a summer blanket in the park' (injecting/enhancing winter with eps=2.1)...\n"
     ]
    },
    {
     "name": "stderr",
     "output_type": "stream",
     "text": [
      "100%|██████████| 50/50 [00:07<00:00,  6.98it/s]\n"
     ]
    },
    {
     "name": "stdout",
     "output_type": "stream",
     "text": [
      "  Steered image saved to 'steered_images_eps_2.1/steered_prompt_14.png'\n",
      "  Processing ID 15: 'A family splashing in a summer river' (injecting/enhancing winter with eps=2.1)...\n"
     ]
    },
    {
     "name": "stderr",
     "output_type": "stream",
     "text": [
      "100%|██████████| 50/50 [00:07<00:00,  6.99it/s]\n"
     ]
    },
    {
     "name": "stdout",
     "output_type": "stream",
     "text": [
      "  Steered image saved to 'steered_images_eps_2.1/steered_prompt_15.png'\n",
      "  Processing ID 16: 'A summer carnival with bright lights at dusk' (injecting/enhancing winter with eps=2.1)...\n"
     ]
    },
    {
     "name": "stderr",
     "output_type": "stream",
     "text": [
      "100%|██████████| 50/50 [00:07<00:00,  7.00it/s]\n"
     ]
    },
    {
     "name": "stdout",
     "output_type": "stream",
     "text": [
      "  Steered image saved to 'steered_images_eps_2.1/steered_prompt_16.png'\n",
      "  Processing ID 17: 'A child running through a summer sprinkler' (injecting/enhancing winter with eps=2.1)...\n"
     ]
    },
    {
     "name": "stderr",
     "output_type": "stream",
     "text": [
      "100%|██████████| 50/50 [00:07<00:00,  6.99it/s]\n"
     ]
    },
    {
     "name": "stdout",
     "output_type": "stream",
     "text": [
      "  Steered image saved to 'steered_images_eps_2.1/steered_prompt_17.png'\n",
      "  Processing ID 18: 'A summer sunset over a calm lake' (injecting/enhancing winter with eps=2.1)...\n"
     ]
    },
    {
     "name": "stderr",
     "output_type": "stream",
     "text": [
      "100%|██████████| 50/50 [00:07<00:00,  6.99it/s]\n"
     ]
    },
    {
     "name": "stdout",
     "output_type": "stream",
     "text": [
      "  Steered image saved to 'steered_images_eps_2.1/steered_prompt_18.png'\n",
      "  Processing ID 19: 'A pair of flip-flops on hot summer sand' (injecting/enhancing winter with eps=2.1)...\n"
     ]
    },
    {
     "name": "stderr",
     "output_type": "stream",
     "text": [
      "100%|██████████| 50/50 [00:07<00:00,  6.89it/s]\n"
     ]
    },
    {
     "name": "stdout",
     "output_type": "stream",
     "text": [
      "  Steered image saved to 'steered_images_eps_2.1/steered_prompt_19.png'\n",
      "  Processing ID 20: 'A couple dancing barefoot at a summer barn wedding' (injecting/enhancing winter with eps=2.1)...\n"
     ]
    },
    {
     "name": "stderr",
     "output_type": "stream",
     "text": [
      "100%|██████████| 50/50 [00:07<00:00,  6.92it/s]\n"
     ]
    },
    {
     "name": "stdout",
     "output_type": "stream",
     "text": [
      "  Steered image saved to 'steered_images_eps_2.1/steered_prompt_20.png'\n",
      "  Processing ID 21: 'A golden retriever chasing a Frisbee in a summer park' (injecting/enhancing winter with eps=2.1)...\n"
     ]
    },
    {
     "name": "stderr",
     "output_type": "stream",
     "text": [
      "100%|██████████| 50/50 [00:07<00:00,  6.92it/s]\n"
     ]
    },
    {
     "name": "stdout",
     "output_type": "stream",
     "text": [
      "  Steered image saved to 'steered_images_eps_2.1/steered_prompt_21.png'\n",
      "  Processing ID 22: 'A rustic wooden pier extending into a summer lake at dawn' (injecting/enhancing winter with eps=2.1)...\n"
     ]
    },
    {
     "name": "stderr",
     "output_type": "stream",
     "text": [
      "100%|██████████| 50/50 [00:07<00:00,  6.95it/s]\n"
     ]
    },
    {
     "name": "stdout",
     "output_type": "stream",
     "text": [
      "  Steered image saved to 'steered_images_eps_2.1/steered_prompt_22.png'\n",
      "  Processing ID 23: 'A child blowing soap bubbles in a sunny backyard' (injecting/enhancing winter with eps=2.1)...\n"
     ]
    },
    {
     "name": "stderr",
     "output_type": "stream",
     "text": [
      "100%|██████████| 50/50 [00:07<00:00,  6.94it/s]\n"
     ]
    },
    {
     "name": "stdout",
     "output_type": "stream",
     "text": [
      "  Steered image saved to 'steered_images_eps_2.1/steered_prompt_23.png'\n",
      "  Processing ID 24: 'A traveler with a backpack watching a summer mountain vista' (injecting/enhancing winter with eps=2.1)...\n"
     ]
    },
    {
     "name": "stderr",
     "output_type": "stream",
     "text": [
      "100%|██████████| 50/50 [00:07<00:00,  6.92it/s]\n"
     ]
    },
    {
     "name": "stdout",
     "output_type": "stream",
     "text": [
      "  Steered image saved to 'steered_images_eps_2.1/steered_prompt_24.png'\n",
      "  Processing ID 25: 'A picnic table under a blossoming cherry tree in June' (injecting/enhancing winter with eps=2.1)...\n"
     ]
    },
    {
     "name": "stderr",
     "output_type": "stream",
     "text": [
      "100%|██████████| 50/50 [00:07<00:00,  6.99it/s]\n"
     ]
    },
    {
     "name": "stdout",
     "output_type": "stream",
     "text": [
      "  Steered image saved to 'steered_images_eps_2.1/steered_prompt_25.png'\n",
      "  Processing ID 26: 'A field of sunflowers swaying in the summer breeze' (injecting/enhancing winter with eps=2.1)...\n"
     ]
    },
    {
     "name": "stderr",
     "output_type": "stream",
     "text": [
      "100%|██████████| 50/50 [00:07<00:00,  6.98it/s]\n"
     ]
    },
    {
     "name": "stdout",
     "output_type": "stream",
     "text": [
      "  Steered image saved to 'steered_images_eps_2.1/steered_prompt_26.png'\n",
      "  Processing ID 27: 'A seaside boardwalk lined with food stalls on a hot day' (injecting/enhancing winter with eps=2.1)...\n"
     ]
    },
    {
     "name": "stderr",
     "output_type": "stream",
     "text": [
      "100%|██████████| 50/50 [00:07<00:00,  6.97it/s]\n"
     ]
    },
    {
     "name": "stdout",
     "output_type": "stream",
     "text": [
      "  Steered image saved to 'steered_images_eps_2.1/steered_prompt_27.png'\n",
      "  Processing ID 28: 'A beach volleyball game under a clear blue sky' (injecting/enhancing winter with eps=2.1)...\n"
     ]
    },
    {
     "name": "stderr",
     "output_type": "stream",
     "text": [
      "100%|██████████| 50/50 [00:07<00:00,  6.96it/s]\n"
     ]
    },
    {
     "name": "stdout",
     "output_type": "stream",
     "text": [
      "  Steered image saved to 'steered_images_eps_2.1/steered_prompt_28.png'\n",
      "  Processing ID 29: 'A summer rain shower over a quiet country road' (injecting/enhancing winter with eps=2.1)...\n"
     ]
    },
    {
     "name": "stderr",
     "output_type": "stream",
     "text": [
      "100%|██████████| 50/50 [00:07<00:00,  6.98it/s]\n"
     ]
    },
    {
     "name": "stdout",
     "output_type": "stream",
     "text": [
      "  Steered image saved to 'steered_images_eps_2.1/steered_prompt_29.png'\n",
      "submission_weight.csv file created successfully!\n"
     ]
    }
   ],
   "source": [
    "import os\n",
    "import pandas as pd\n",
    "\n",
    "# Initialize an empty list to store the submission data.\n",
    "# This ensures you start with a clean list every time you run the cell.\n",
    "submission_data = []\n",
    "\n",
    "# Iterate through different eps values THESE ARE THE ONES THAT PERFORMED BETTER\n",
    "DEFUALT_EPS = 2.1\n",
    "\n",
    "eps_values = [2.1] # Example eps values for tuning\n",
    "for eps_value in eps_values:\n",
    "    print(f\"\\n--- Generating STEERED images for eps = {eps_value} ---\")\n",
    "    STEERED_IMAGES_DIR = f\"steered_images_eps_{eps_value}\"\n",
    "    os.makedirs(STEERED_IMAGES_DIR, exist_ok=True)\n",
    "\n",
    "    for index, row in prompts_df.iterrows():\n",
    "        target_prompt = row['prompt']\n",
    "        prompt_id = row['ID']\n",
    "\n",
    "        # Always add/enhance the winter concept as per previous clarification\n",
    "        # This applied_steering_vector_full still contains all layers\n",
    "        applied_steering_vector_full = steering_vector * eps_value\n",
    "        steering_type = f\"injecting/enhancing winter with eps={eps_value}\"\n",
    "\n",
    "        print(f\"  Processing ID {prompt_id}: '{target_prompt}' ({steering_type})...\")\n",
    "        with model.generate(target_prompt, seed=SEED):\n",
    "            # FIX: Iterate with enumerate to get layer index and select the correct slice\n",
    "            for layer_idx, layer in enumerate(model.text_encoder.text_model.encoder.layers):\n",
    "                # Select the steering vector slice corresponding to the current layer\n",
    "                steering_vector_for_this_layer = applied_steering_vector_full[layer_idx]\n",
    "                layer.mlp.output = layer.mlp.output + steering_vector_for_this_layer.to(layer.mlp.output.device)\n",
    "            steered_image = model.output.images[0].save()\n",
    "\n",
    "        # Save the steered image to the eps-specific directory\n",
    "        steered_image_path = os.path.join(STEERED_IMAGES_DIR, f\"steered_prompt_{prompt_id}.png\")\n",
    "        steered_image.save(steered_image_path)\n",
    "        print(f\"  Steered image saved to '{steered_image_path}'\")\n",
    "\n",
    "        # If this is the default eps for submission, add to submission_data\n",
    "        if eps_value == DEFUALT_EPS:\n",
    "            img_base64 = pil_image_to_string(steered_image)\n",
    "            submission_data.append({'ID': prompt_id, 'images': img_base64})\n",
    "\n",
    "# Create the final DataFrame from the data you already generated\n",
    "submission_df = pd.DataFrame(submission_data)\n",
    "\n",
    "# Save the DataFrame to submission.csv\n",
    "submission_df.to_csv('submission_weight_topk.csv', index=False)\n",
    "\n",
    "print(\"submission_weight.csv file created successfully!\")"
   ]
  },
  {
   "cell_type": "markdown",
   "metadata": {},
   "source": [
    "Differentiated Layers Incremental"
   ]
  },
  {
   "cell_type": "code",
   "execution_count": 69,
   "metadata": {},
   "outputs": [
    {
     "name": "stdout",
     "output_type": "stream",
     "text": [
      "\n",
      "--- Generating STEERED images with a ramp from eps=1.9 to 2.5 ---\n",
      "  Processing ID 0: 'A family having a picnic in a sunny summer meadow'...\n",
      "  (injecting/enhancing winter with per-layer eps: L0:eps=1.90 L1:eps=1.93 L2:eps=1.95 L3:eps=1.98 L4:eps=2.01 L5:eps=2.04 L6:eps=2.06 L7:eps=2.09 L8:eps=2.12 L9:eps=2.15 L10:eps=2.17 L11:eps=2.20 L12:eps=2.23 L13:eps=2.25 L14:eps=2.28 L15:eps=2.31 L16:eps=2.34 L17:eps=2.36 L18:eps=2.39 L19:eps=2.42 L20:eps=2.45 L21:eps=2.47 L22:eps=2.50)...\n"
     ]
    },
    {
     "name": "stderr",
     "output_type": "stream",
     "text": [
      "100%|██████████| 50/50 [00:07<00:00,  6.77it/s]\n"
     ]
    },
    {
     "name": "stdout",
     "output_type": "stream",
     "text": [
      "  Steered image saved to 'steered_images_incremental/steered_prompt_0.png'\n",
      "  Processing ID 1: 'A close-up of ice cream melting on a hot summer day'...\n",
      "  (injecting/enhancing winter with per-layer eps: L0:eps=1.90 L1:eps=1.93 L2:eps=1.95 L3:eps=1.98 L4:eps=2.01 L5:eps=2.04 L6:eps=2.06 L7:eps=2.09 L8:eps=2.12 L9:eps=2.15 L10:eps=2.17 L11:eps=2.20 L12:eps=2.23 L13:eps=2.25 L14:eps=2.28 L15:eps=2.31 L16:eps=2.34 L17:eps=2.36 L18:eps=2.39 L19:eps=2.42 L20:eps=2.45 L21:eps=2.47 L22:eps=2.50)...\n"
     ]
    },
    {
     "name": "stderr",
     "output_type": "stream",
     "text": [
      "100%|██████████| 50/50 [00:07<00:00,  6.84it/s]\n"
     ]
    },
    {
     "name": "stdout",
     "output_type": "stream",
     "text": [
      "  Steered image saved to 'steered_images_incremental/steered_prompt_1.png'\n",
      "  Processing ID 2: 'A vibrant summer flower garden with butterflies'...\n",
      "  (injecting/enhancing winter with per-layer eps: L0:eps=1.90 L1:eps=1.93 L2:eps=1.95 L3:eps=1.98 L4:eps=2.01 L5:eps=2.04 L6:eps=2.06 L7:eps=2.09 L8:eps=2.12 L9:eps=2.15 L10:eps=2.17 L11:eps=2.20 L12:eps=2.23 L13:eps=2.25 L14:eps=2.28 L15:eps=2.31 L16:eps=2.34 L17:eps=2.36 L18:eps=2.39 L19:eps=2.42 L20:eps=2.45 L21:eps=2.47 L22:eps=2.50)...\n"
     ]
    },
    {
     "name": "stderr",
     "output_type": "stream",
     "text": [
      "100%|██████████| 50/50 [00:07<00:00,  6.83it/s]\n"
     ]
    },
    {
     "name": "stdout",
     "output_type": "stream",
     "text": [
      "  Steered image saved to 'steered_images_incremental/steered_prompt_2.png'\n",
      "  Processing ID 3: 'A person reading a book under a summer oak tree'...\n",
      "  (injecting/enhancing winter with per-layer eps: L0:eps=1.90 L1:eps=1.93 L2:eps=1.95 L3:eps=1.98 L4:eps=2.01 L5:eps=2.04 L6:eps=2.06 L7:eps=2.09 L8:eps=2.12 L9:eps=2.15 L10:eps=2.17 L11:eps=2.20 L12:eps=2.23 L13:eps=2.25 L14:eps=2.28 L15:eps=2.31 L16:eps=2.34 L17:eps=2.36 L18:eps=2.39 L19:eps=2.42 L20:eps=2.45 L21:eps=2.47 L22:eps=2.50)...\n"
     ]
    },
    {
     "name": "stderr",
     "output_type": "stream",
     "text": [
      "100%|██████████| 50/50 [00:07<00:00,  6.81it/s]\n"
     ]
    },
    {
     "name": "stdout",
     "output_type": "stream",
     "text": [
      "  Steered image saved to 'steered_images_incremental/steered_prompt_3.png'\n",
      "  Processing ID 4: 'A beach scene with summer umbrellas and waves'...\n",
      "  (injecting/enhancing winter with per-layer eps: L0:eps=1.90 L1:eps=1.93 L2:eps=1.95 L3:eps=1.98 L4:eps=2.01 L5:eps=2.04 L6:eps=2.06 L7:eps=2.09 L8:eps=2.12 L9:eps=2.15 L10:eps=2.17 L11:eps=2.20 L12:eps=2.23 L13:eps=2.25 L14:eps=2.28 L15:eps=2.31 L16:eps=2.34 L17:eps=2.36 L18:eps=2.39 L19:eps=2.42 L20:eps=2.45 L21:eps=2.47 L22:eps=2.50)...\n"
     ]
    },
    {
     "name": "stderr",
     "output_type": "stream",
     "text": [
      "100%|██████████| 50/50 [00:07<00:00,  6.83it/s]\n"
     ]
    },
    {
     "name": "stdout",
     "output_type": "stream",
     "text": [
      "  Steered image saved to 'steered_images_incremental/steered_prompt_4.png'\n",
      "  Processing ID 5: 'A yellow lemonade stand on a summer afternoon'...\n",
      "  (injecting/enhancing winter with per-layer eps: L0:eps=1.90 L1:eps=1.93 L2:eps=1.95 L3:eps=1.98 L4:eps=2.01 L5:eps=2.04 L6:eps=2.06 L7:eps=2.09 L8:eps=2.12 L9:eps=2.15 L10:eps=2.17 L11:eps=2.20 L12:eps=2.23 L13:eps=2.25 L14:eps=2.28 L15:eps=2.31 L16:eps=2.34 L17:eps=2.36 L18:eps=2.39 L19:eps=2.42 L20:eps=2.45 L21:eps=2.47 L22:eps=2.50)...\n"
     ]
    },
    {
     "name": "stderr",
     "output_type": "stream",
     "text": [
      "100%|██████████| 50/50 [00:07<00:00,  6.83it/s]\n"
     ]
    },
    {
     "name": "stdout",
     "output_type": "stream",
     "text": [
      "  Steered image saved to 'steered_images_incremental/steered_prompt_5.png'\n",
      "  Processing ID 6: 'A cyclist riding through a summer countryside road'...\n",
      "  (injecting/enhancing winter with per-layer eps: L0:eps=1.90 L1:eps=1.93 L2:eps=1.95 L3:eps=1.98 L4:eps=2.01 L5:eps=2.04 L6:eps=2.06 L7:eps=2.09 L8:eps=2.12 L9:eps=2.15 L10:eps=2.17 L11:eps=2.20 L12:eps=2.23 L13:eps=2.25 L14:eps=2.28 L15:eps=2.31 L16:eps=2.34 L17:eps=2.36 L18:eps=2.39 L19:eps=2.42 L20:eps=2.45 L21:eps=2.47 L22:eps=2.50)...\n"
     ]
    },
    {
     "name": "stderr",
     "output_type": "stream",
     "text": [
      "100%|██████████| 50/50 [00:07<00:00,  6.84it/s]\n"
     ]
    },
    {
     "name": "stdout",
     "output_type": "stream",
     "text": [
      "  Steered image saved to 'steered_images_incremental/steered_prompt_6.png'\n",
      "  Processing ID 7: 'A pair of sunglasses on a summer-tiled patio'...\n",
      "  (injecting/enhancing winter with per-layer eps: L0:eps=1.90 L1:eps=1.93 L2:eps=1.95 L3:eps=1.98 L4:eps=2.01 L5:eps=2.04 L6:eps=2.06 L7:eps=2.09 L8:eps=2.12 L9:eps=2.15 L10:eps=2.17 L11:eps=2.20 L12:eps=2.23 L13:eps=2.25 L14:eps=2.28 L15:eps=2.31 L16:eps=2.34 L17:eps=2.36 L18:eps=2.39 L19:eps=2.42 L20:eps=2.45 L21:eps=2.47 L22:eps=2.50)...\n"
     ]
    },
    {
     "name": "stderr",
     "output_type": "stream",
     "text": [
      "100%|██████████| 50/50 [00:07<00:00,  6.77it/s]\n"
     ]
    },
    {
     "name": "stdout",
     "output_type": "stream",
     "text": [
      "  Steered image saved to 'steered_images_incremental/steered_prompt_7.png'\n",
      "  Processing ID 8: 'A summer farmer’s market with fresh fruits on display'...\n",
      "  (injecting/enhancing winter with per-layer eps: L0:eps=1.90 L1:eps=1.93 L2:eps=1.95 L3:eps=1.98 L4:eps=2.01 L5:eps=2.04 L6:eps=2.06 L7:eps=2.09 L8:eps=2.12 L9:eps=2.15 L10:eps=2.17 L11:eps=2.20 L12:eps=2.23 L13:eps=2.25 L14:eps=2.28 L15:eps=2.31 L16:eps=2.34 L17:eps=2.36 L18:eps=2.39 L19:eps=2.42 L20:eps=2.45 L21:eps=2.47 L22:eps=2.50)...\n"
     ]
    },
    {
     "name": "stderr",
     "output_type": "stream",
     "text": [
      "100%|██████████| 50/50 [00:07<00:00,  6.85it/s]\n"
     ]
    },
    {
     "name": "stdout",
     "output_type": "stream",
     "text": [
      "  Steered image saved to 'steered_images_incremental/steered_prompt_8.png'\n",
      "  Processing ID 9: 'A hammock strung between two trees in summer'...\n",
      "  (injecting/enhancing winter with per-layer eps: L0:eps=1.90 L1:eps=1.93 L2:eps=1.95 L3:eps=1.98 L4:eps=2.01 L5:eps=2.04 L6:eps=2.06 L7:eps=2.09 L8:eps=2.12 L9:eps=2.15 L10:eps=2.17 L11:eps=2.20 L12:eps=2.23 L13:eps=2.25 L14:eps=2.28 L15:eps=2.31 L16:eps=2.34 L17:eps=2.36 L18:eps=2.39 L19:eps=2.42 L20:eps=2.45 L21:eps=2.47 L22:eps=2.50)...\n"
     ]
    },
    {
     "name": "stderr",
     "output_type": "stream",
     "text": [
      "100%|██████████| 50/50 [00:07<00:00,  6.86it/s]\n"
     ]
    },
    {
     "name": "stdout",
     "output_type": "stream",
     "text": [
      "  Steered image saved to 'steered_images_incremental/steered_prompt_9.png'\n",
      "  Processing ID 10: 'A street musician playing guitar on a summer evening'...\n",
      "  (injecting/enhancing winter with per-layer eps: L0:eps=1.90 L1:eps=1.93 L2:eps=1.95 L3:eps=1.98 L4:eps=2.01 L5:eps=2.04 L6:eps=2.06 L7:eps=2.09 L8:eps=2.12 L9:eps=2.15 L10:eps=2.17 L11:eps=2.20 L12:eps=2.23 L13:eps=2.25 L14:eps=2.28 L15:eps=2.31 L16:eps=2.34 L17:eps=2.36 L18:eps=2.39 L19:eps=2.42 L20:eps=2.45 L21:eps=2.47 L22:eps=2.50)...\n"
     ]
    },
    {
     "name": "stderr",
     "output_type": "stream",
     "text": [
      "100%|██████████| 50/50 [00:07<00:00,  6.87it/s]\n"
     ]
    },
    {
     "name": "stdout",
     "output_type": "stream",
     "text": [
      "  Steered image saved to 'steered_images_incremental/steered_prompt_10.png'\n",
      "  Processing ID 11: 'A summer pool party with colorful floats'...\n",
      "  (injecting/enhancing winter with per-layer eps: L0:eps=1.90 L1:eps=1.93 L2:eps=1.95 L3:eps=1.98 L4:eps=2.01 L5:eps=2.04 L6:eps=2.06 L7:eps=2.09 L8:eps=2.12 L9:eps=2.15 L10:eps=2.17 L11:eps=2.20 L12:eps=2.23 L13:eps=2.25 L14:eps=2.28 L15:eps=2.31 L16:eps=2.34 L17:eps=2.36 L18:eps=2.39 L19:eps=2.42 L20:eps=2.45 L21:eps=2.47 L22:eps=2.50)...\n"
     ]
    },
    {
     "name": "stderr",
     "output_type": "stream",
     "text": [
      "100%|██████████| 50/50 [00:07<00:00,  6.87it/s]\n"
     ]
    },
    {
     "name": "stdout",
     "output_type": "stream",
     "text": [
      "  Steered image saved to 'steered_images_incremental/steered_prompt_11.png'\n",
      "  Processing ID 12: 'A close-up of dewy grass on a summer morning'...\n",
      "  (injecting/enhancing winter with per-layer eps: L0:eps=1.90 L1:eps=1.93 L2:eps=1.95 L3:eps=1.98 L4:eps=2.01 L5:eps=2.04 L6:eps=2.06 L7:eps=2.09 L8:eps=2.12 L9:eps=2.15 L10:eps=2.17 L11:eps=2.20 L12:eps=2.23 L13:eps=2.25 L14:eps=2.28 L15:eps=2.31 L16:eps=2.34 L17:eps=2.36 L18:eps=2.39 L19:eps=2.42 L20:eps=2.45 L21:eps=2.47 L22:eps=2.50)...\n"
     ]
    },
    {
     "name": "stderr",
     "output_type": "stream",
     "text": [
      "100%|██████████| 50/50 [00:07<00:00,  6.80it/s]\n"
     ]
    },
    {
     "name": "stdout",
     "output_type": "stream",
     "text": [
      "  Steered image saved to 'steered_images_incremental/steered_prompt_12.png'\n",
      "  Processing ID 13: 'A row of beach chairs facing the summer sea'...\n",
      "  (injecting/enhancing winter with per-layer eps: L0:eps=1.90 L1:eps=1.93 L2:eps=1.95 L3:eps=1.98 L4:eps=2.01 L5:eps=2.04 L6:eps=2.06 L7:eps=2.09 L8:eps=2.12 L9:eps=2.15 L10:eps=2.17 L11:eps=2.20 L12:eps=2.23 L13:eps=2.25 L14:eps=2.28 L15:eps=2.31 L16:eps=2.34 L17:eps=2.36 L18:eps=2.39 L19:eps=2.42 L20:eps=2.45 L21:eps=2.47 L22:eps=2.50)...\n"
     ]
    },
    {
     "name": "stderr",
     "output_type": "stream",
     "text": [
      "100%|██████████| 50/50 [00:07<00:00,  6.86it/s]\n"
     ]
    },
    {
     "name": "stdout",
     "output_type": "stream",
     "text": [
      "  Steered image saved to 'steered_images_incremental/steered_prompt_13.png'\n",
      "  Processing ID 14: 'A picnic basket on a summer blanket in the park'...\n",
      "  (injecting/enhancing winter with per-layer eps: L0:eps=1.90 L1:eps=1.93 L2:eps=1.95 L3:eps=1.98 L4:eps=2.01 L5:eps=2.04 L6:eps=2.06 L7:eps=2.09 L8:eps=2.12 L9:eps=2.15 L10:eps=2.17 L11:eps=2.20 L12:eps=2.23 L13:eps=2.25 L14:eps=2.28 L15:eps=2.31 L16:eps=2.34 L17:eps=2.36 L18:eps=2.39 L19:eps=2.42 L20:eps=2.45 L21:eps=2.47 L22:eps=2.50)...\n"
     ]
    },
    {
     "name": "stderr",
     "output_type": "stream",
     "text": [
      "100%|██████████| 50/50 [00:07<00:00,  6.83it/s]\n"
     ]
    },
    {
     "name": "stdout",
     "output_type": "stream",
     "text": [
      "  Steered image saved to 'steered_images_incremental/steered_prompt_14.png'\n",
      "  Processing ID 15: 'A family splashing in a summer river'...\n",
      "  (injecting/enhancing winter with per-layer eps: L0:eps=1.90 L1:eps=1.93 L2:eps=1.95 L3:eps=1.98 L4:eps=2.01 L5:eps=2.04 L6:eps=2.06 L7:eps=2.09 L8:eps=2.12 L9:eps=2.15 L10:eps=2.17 L11:eps=2.20 L12:eps=2.23 L13:eps=2.25 L14:eps=2.28 L15:eps=2.31 L16:eps=2.34 L17:eps=2.36 L18:eps=2.39 L19:eps=2.42 L20:eps=2.45 L21:eps=2.47 L22:eps=2.50)...\n"
     ]
    },
    {
     "name": "stderr",
     "output_type": "stream",
     "text": [
      "100%|██████████| 50/50 [00:07<00:00,  6.86it/s]\n"
     ]
    },
    {
     "name": "stdout",
     "output_type": "stream",
     "text": [
      "  Steered image saved to 'steered_images_incremental/steered_prompt_15.png'\n",
      "  Processing ID 16: 'A summer carnival with bright lights at dusk'...\n",
      "  (injecting/enhancing winter with per-layer eps: L0:eps=1.90 L1:eps=1.93 L2:eps=1.95 L3:eps=1.98 L4:eps=2.01 L5:eps=2.04 L6:eps=2.06 L7:eps=2.09 L8:eps=2.12 L9:eps=2.15 L10:eps=2.17 L11:eps=2.20 L12:eps=2.23 L13:eps=2.25 L14:eps=2.28 L15:eps=2.31 L16:eps=2.34 L17:eps=2.36 L18:eps=2.39 L19:eps=2.42 L20:eps=2.45 L21:eps=2.47 L22:eps=2.50)...\n"
     ]
    },
    {
     "name": "stderr",
     "output_type": "stream",
     "text": [
      "100%|██████████| 50/50 [00:07<00:00,  6.88it/s]\n"
     ]
    },
    {
     "name": "stdout",
     "output_type": "stream",
     "text": [
      "  Steered image saved to 'steered_images_incremental/steered_prompt_16.png'\n",
      "  Processing ID 17: 'A child running through a summer sprinkler'...\n",
      "  (injecting/enhancing winter with per-layer eps: L0:eps=1.90 L1:eps=1.93 L2:eps=1.95 L3:eps=1.98 L4:eps=2.01 L5:eps=2.04 L6:eps=2.06 L7:eps=2.09 L8:eps=2.12 L9:eps=2.15 L10:eps=2.17 L11:eps=2.20 L12:eps=2.23 L13:eps=2.25 L14:eps=2.28 L15:eps=2.31 L16:eps=2.34 L17:eps=2.36 L18:eps=2.39 L19:eps=2.42 L20:eps=2.45 L21:eps=2.47 L22:eps=2.50)...\n"
     ]
    },
    {
     "name": "stderr",
     "output_type": "stream",
     "text": [
      "100%|██████████| 50/50 [00:07<00:00,  6.77it/s]\n"
     ]
    },
    {
     "name": "stdout",
     "output_type": "stream",
     "text": [
      "  Steered image saved to 'steered_images_incremental/steered_prompt_17.png'\n",
      "  Processing ID 18: 'A summer sunset over a calm lake'...\n",
      "  (injecting/enhancing winter with per-layer eps: L0:eps=1.90 L1:eps=1.93 L2:eps=1.95 L3:eps=1.98 L4:eps=2.01 L5:eps=2.04 L6:eps=2.06 L7:eps=2.09 L8:eps=2.12 L9:eps=2.15 L10:eps=2.17 L11:eps=2.20 L12:eps=2.23 L13:eps=2.25 L14:eps=2.28 L15:eps=2.31 L16:eps=2.34 L17:eps=2.36 L18:eps=2.39 L19:eps=2.42 L20:eps=2.45 L21:eps=2.47 L22:eps=2.50)...\n"
     ]
    },
    {
     "name": "stderr",
     "output_type": "stream",
     "text": [
      "100%|██████████| 50/50 [00:07<00:00,  6.86it/s]\n"
     ]
    },
    {
     "name": "stdout",
     "output_type": "stream",
     "text": [
      "  Steered image saved to 'steered_images_incremental/steered_prompt_18.png'\n",
      "  Processing ID 19: 'A pair of flip-flops on hot summer sand'...\n",
      "  (injecting/enhancing winter with per-layer eps: L0:eps=1.90 L1:eps=1.93 L2:eps=1.95 L3:eps=1.98 L4:eps=2.01 L5:eps=2.04 L6:eps=2.06 L7:eps=2.09 L8:eps=2.12 L9:eps=2.15 L10:eps=2.17 L11:eps=2.20 L12:eps=2.23 L13:eps=2.25 L14:eps=2.28 L15:eps=2.31 L16:eps=2.34 L17:eps=2.36 L18:eps=2.39 L19:eps=2.42 L20:eps=2.45 L21:eps=2.47 L22:eps=2.50)...\n"
     ]
    },
    {
     "name": "stderr",
     "output_type": "stream",
     "text": [
      "100%|██████████| 50/50 [00:07<00:00,  6.86it/s]\n"
     ]
    },
    {
     "name": "stdout",
     "output_type": "stream",
     "text": [
      "  Steered image saved to 'steered_images_incremental/steered_prompt_19.png'\n",
      "  Processing ID 20: 'A couple dancing barefoot at a summer barn wedding'...\n",
      "  (injecting/enhancing winter with per-layer eps: L0:eps=1.90 L1:eps=1.93 L2:eps=1.95 L3:eps=1.98 L4:eps=2.01 L5:eps=2.04 L6:eps=2.06 L7:eps=2.09 L8:eps=2.12 L9:eps=2.15 L10:eps=2.17 L11:eps=2.20 L12:eps=2.23 L13:eps=2.25 L14:eps=2.28 L15:eps=2.31 L16:eps=2.34 L17:eps=2.36 L18:eps=2.39 L19:eps=2.42 L20:eps=2.45 L21:eps=2.47 L22:eps=2.50)...\n"
     ]
    },
    {
     "name": "stderr",
     "output_type": "stream",
     "text": [
      "100%|██████████| 50/50 [00:07<00:00,  6.86it/s]\n"
     ]
    },
    {
     "name": "stdout",
     "output_type": "stream",
     "text": [
      "  Steered image saved to 'steered_images_incremental/steered_prompt_20.png'\n",
      "  Processing ID 21: 'A golden retriever chasing a Frisbee in a summer park'...\n",
      "  (injecting/enhancing winter with per-layer eps: L0:eps=1.90 L1:eps=1.93 L2:eps=1.95 L3:eps=1.98 L4:eps=2.01 L5:eps=2.04 L6:eps=2.06 L7:eps=2.09 L8:eps=2.12 L9:eps=2.15 L10:eps=2.17 L11:eps=2.20 L12:eps=2.23 L13:eps=2.25 L14:eps=2.28 L15:eps=2.31 L16:eps=2.34 L17:eps=2.36 L18:eps=2.39 L19:eps=2.42 L20:eps=2.45 L21:eps=2.47 L22:eps=2.50)...\n"
     ]
    },
    {
     "name": "stderr",
     "output_type": "stream",
     "text": [
      "100%|██████████| 50/50 [00:07<00:00,  6.81it/s]\n"
     ]
    },
    {
     "name": "stdout",
     "output_type": "stream",
     "text": [
      "  Steered image saved to 'steered_images_incremental/steered_prompt_21.png'\n",
      "  Processing ID 22: 'A rustic wooden pier extending into a summer lake at dawn'...\n",
      "  (injecting/enhancing winter with per-layer eps: L0:eps=1.90 L1:eps=1.93 L2:eps=1.95 L3:eps=1.98 L4:eps=2.01 L5:eps=2.04 L6:eps=2.06 L7:eps=2.09 L8:eps=2.12 L9:eps=2.15 L10:eps=2.17 L11:eps=2.20 L12:eps=2.23 L13:eps=2.25 L14:eps=2.28 L15:eps=2.31 L16:eps=2.34 L17:eps=2.36 L18:eps=2.39 L19:eps=2.42 L20:eps=2.45 L21:eps=2.47 L22:eps=2.50)...\n"
     ]
    },
    {
     "name": "stderr",
     "output_type": "stream",
     "text": [
      "100%|██████████| 50/50 [00:07<00:00,  6.81it/s]\n"
     ]
    },
    {
     "name": "stdout",
     "output_type": "stream",
     "text": [
      "  Steered image saved to 'steered_images_incremental/steered_prompt_22.png'\n",
      "  Processing ID 23: 'A child blowing soap bubbles in a sunny backyard'...\n",
      "  (injecting/enhancing winter with per-layer eps: L0:eps=1.90 L1:eps=1.93 L2:eps=1.95 L3:eps=1.98 L4:eps=2.01 L5:eps=2.04 L6:eps=2.06 L7:eps=2.09 L8:eps=2.12 L9:eps=2.15 L10:eps=2.17 L11:eps=2.20 L12:eps=2.23 L13:eps=2.25 L14:eps=2.28 L15:eps=2.31 L16:eps=2.34 L17:eps=2.36 L18:eps=2.39 L19:eps=2.42 L20:eps=2.45 L21:eps=2.47 L22:eps=2.50)...\n"
     ]
    },
    {
     "name": "stderr",
     "output_type": "stream",
     "text": [
      "100%|██████████| 50/50 [00:07<00:00,  6.84it/s]\n"
     ]
    },
    {
     "name": "stdout",
     "output_type": "stream",
     "text": [
      "  Steered image saved to 'steered_images_incremental/steered_prompt_23.png'\n",
      "  Processing ID 24: 'A traveler with a backpack watching a summer mountain vista'...\n",
      "  (injecting/enhancing winter with per-layer eps: L0:eps=1.90 L1:eps=1.93 L2:eps=1.95 L3:eps=1.98 L4:eps=2.01 L5:eps=2.04 L6:eps=2.06 L7:eps=2.09 L8:eps=2.12 L9:eps=2.15 L10:eps=2.17 L11:eps=2.20 L12:eps=2.23 L13:eps=2.25 L14:eps=2.28 L15:eps=2.31 L16:eps=2.34 L17:eps=2.36 L18:eps=2.39 L19:eps=2.42 L20:eps=2.45 L21:eps=2.47 L22:eps=2.50)...\n"
     ]
    },
    {
     "name": "stderr",
     "output_type": "stream",
     "text": [
      "100%|██████████| 50/50 [00:07<00:00,  6.82it/s]\n"
     ]
    },
    {
     "name": "stdout",
     "output_type": "stream",
     "text": [
      "  Steered image saved to 'steered_images_incremental/steered_prompt_24.png'\n",
      "  Processing ID 25: 'A picnic table under a blossoming cherry tree in June'...\n",
      "  (injecting/enhancing winter with per-layer eps: L0:eps=1.90 L1:eps=1.93 L2:eps=1.95 L3:eps=1.98 L4:eps=2.01 L5:eps=2.04 L6:eps=2.06 L7:eps=2.09 L8:eps=2.12 L9:eps=2.15 L10:eps=2.17 L11:eps=2.20 L12:eps=2.23 L13:eps=2.25 L14:eps=2.28 L15:eps=2.31 L16:eps=2.34 L17:eps=2.36 L18:eps=2.39 L19:eps=2.42 L20:eps=2.45 L21:eps=2.47 L22:eps=2.50)...\n"
     ]
    },
    {
     "name": "stderr",
     "output_type": "stream",
     "text": [
      "100%|██████████| 50/50 [00:07<00:00,  6.79it/s]\n"
     ]
    },
    {
     "name": "stdout",
     "output_type": "stream",
     "text": [
      "  Steered image saved to 'steered_images_incremental/steered_prompt_25.png'\n",
      "  Processing ID 26: 'A field of sunflowers swaying in the summer breeze'...\n",
      "  (injecting/enhancing winter with per-layer eps: L0:eps=1.90 L1:eps=1.93 L2:eps=1.95 L3:eps=1.98 L4:eps=2.01 L5:eps=2.04 L6:eps=2.06 L7:eps=2.09 L8:eps=2.12 L9:eps=2.15 L10:eps=2.17 L11:eps=2.20 L12:eps=2.23 L13:eps=2.25 L14:eps=2.28 L15:eps=2.31 L16:eps=2.34 L17:eps=2.36 L18:eps=2.39 L19:eps=2.42 L20:eps=2.45 L21:eps=2.47 L22:eps=2.50)...\n"
     ]
    },
    {
     "name": "stderr",
     "output_type": "stream",
     "text": [
      "100%|██████████| 50/50 [00:07<00:00,  6.87it/s]\n"
     ]
    },
    {
     "name": "stdout",
     "output_type": "stream",
     "text": [
      "  Steered image saved to 'steered_images_incremental/steered_prompt_26.png'\n",
      "  Processing ID 27: 'A seaside boardwalk lined with food stalls on a hot day'...\n",
      "  (injecting/enhancing winter with per-layer eps: L0:eps=1.90 L1:eps=1.93 L2:eps=1.95 L3:eps=1.98 L4:eps=2.01 L5:eps=2.04 L6:eps=2.06 L7:eps=2.09 L8:eps=2.12 L9:eps=2.15 L10:eps=2.17 L11:eps=2.20 L12:eps=2.23 L13:eps=2.25 L14:eps=2.28 L15:eps=2.31 L16:eps=2.34 L17:eps=2.36 L18:eps=2.39 L19:eps=2.42 L20:eps=2.45 L21:eps=2.47 L22:eps=2.50)...\n"
     ]
    },
    {
     "name": "stderr",
     "output_type": "stream",
     "text": [
      "100%|██████████| 50/50 [00:07<00:00,  6.86it/s]\n"
     ]
    },
    {
     "name": "stdout",
     "output_type": "stream",
     "text": [
      "  Steered image saved to 'steered_images_incremental/steered_prompt_27.png'\n",
      "  Processing ID 28: 'A beach volleyball game under a clear blue sky'...\n",
      "  (injecting/enhancing winter with per-layer eps: L0:eps=1.90 L1:eps=1.93 L2:eps=1.95 L3:eps=1.98 L4:eps=2.01 L5:eps=2.04 L6:eps=2.06 L7:eps=2.09 L8:eps=2.12 L9:eps=2.15 L10:eps=2.17 L11:eps=2.20 L12:eps=2.23 L13:eps=2.25 L14:eps=2.28 L15:eps=2.31 L16:eps=2.34 L17:eps=2.36 L18:eps=2.39 L19:eps=2.42 L20:eps=2.45 L21:eps=2.47 L22:eps=2.50)...\n"
     ]
    },
    {
     "name": "stderr",
     "output_type": "stream",
     "text": [
      "100%|██████████| 50/50 [00:07<00:00,  6.87it/s]\n"
     ]
    },
    {
     "name": "stdout",
     "output_type": "stream",
     "text": [
      "  Steered image saved to 'steered_images_incremental/steered_prompt_28.png'\n",
      "  Processing ID 29: 'A summer rain shower over a quiet country road'...\n",
      "  (injecting/enhancing winter with per-layer eps: L0:eps=1.90 L1:eps=1.93 L2:eps=1.95 L3:eps=1.98 L4:eps=2.01 L5:eps=2.04 L6:eps=2.06 L7:eps=2.09 L8:eps=2.12 L9:eps=2.15 L10:eps=2.17 L11:eps=2.20 L12:eps=2.23 L13:eps=2.25 L14:eps=2.28 L15:eps=2.31 L16:eps=2.34 L17:eps=2.36 L18:eps=2.39 L19:eps=2.42 L20:eps=2.45 L21:eps=2.47 L22:eps=2.50)...\n"
     ]
    },
    {
     "name": "stderr",
     "output_type": "stream",
     "text": [
      "100%|██████████| 50/50 [00:07<00:00,  6.88it/s]\n"
     ]
    },
    {
     "name": "stdout",
     "output_type": "stream",
     "text": [
      "  Steered image saved to 'steered_images_incremental/steered_prompt_29.png'\n",
      "\n",
      "submission_final.csv file created successfully!\n"
     ]
    }
   ],
   "source": [
    "import os\n",
    "import pandas as pd\n",
    "import numpy as np\n",
    "\n",
    "# =================================================================\n",
    "# 1. SETUP: Define the final epsilon values per layer\n",
    "# =================================================================\n",
    "# Initialize an empty list to store the submission data.\n",
    "# This ensures you start with a clean list every time you run the cell.\n",
    "submission_data = []\n",
    "\n",
    "# --- Parameters for generating the final epsilon values ---\n",
    "num_layers = 23      # The text encoder has 23 layers (0-22)\n",
    "start_eps = 1.9      # The final strength for the first layer (layer 0)\n",
    "end_eps = 2.5        # The final strength for the last layer (layer 22)\n",
    "\n",
    "# --- Generate the list of final epsilon values ---\n",
    "# This list will be used directly as the strength for each layer.\n",
    "final_eps_per_layer = np.linspace(start_eps, end_eps, num_layers).tolist()\n",
    "\n",
    "# --- The default EPS for submission is now just a flag, not a value to check ---\n",
    "# We will generate only one set of images for the submission.\n",
    "DEFAULT_EPS_FOR_SUBMISSION = True\n",
    "\n",
    "# Load the official prompts\n",
    "prompts_df = pd.read_csv('prompts.csv')\n",
    "\n",
    "# =================================================================\n",
    "# 2. GENERATE THE FINAL SUBMISSION IMAGES\n",
    "# =================================================================\n",
    "print(f\"\\n--- Generating STEERED images with a ramp from eps={start_eps} to {end_eps} ---\")\n",
    "STEERED_IMAGES_DIR = \"steered_images_incremental\"\n",
    "os.makedirs(STEERED_IMAGES_DIR, exist_ok=True)\n",
    "\n",
    "for index, row in prompts_df.iterrows():\n",
    "    target_prompt = row['prompt']\n",
    "    prompt_id = row['ID']\n",
    "\n",
    "    # This list will store the description of the steering for logging\n",
    "    steering_type_description_parts = []\n",
    "\n",
    "    print(f\"  Processing ID {prompt_id}: '{target_prompt}'...\")\n",
    "    with model.generate(target_prompt, seed=SEED):\n",
    "        # Iterate through each layer of the model's text encoder\n",
    "        for layer_idx, layer in enumerate(model.text_encoder.text_model.encoder.layers):\n",
    "            \n",
    "            # Get the final epsilon value for the current layer directly from our list\n",
    "            current_layer_eps = final_eps_per_layer[layer_idx]\n",
    "\n",
    "            # Get the steering vector slice for the current layer\n",
    "            steering_vector_for_this_layer = steering_vector[layer_idx]\n",
    "            \n",
    "            # Apply the steering with the correct epsilon for this layer\n",
    "            layer.mlp.output = layer.mlp.output + (steering_vector_for_this_layer.to(layer.mlp.output.device) * current_layer_eps)\n",
    "\n",
    "            # Add this layer's effective epsilon to the description for logging\n",
    "            steering_type_description_parts.append(f\"L{layer_idx}:eps={current_layer_eps:.2f}\")\n",
    "\n",
    "        # Construct the full steering type description for logging\n",
    "        steering_type = f\"injecting/enhancing winter with per-layer eps: {' '.join(steering_type_description_parts)}\"\n",
    "        print(f\"  ({steering_type})...\")\n",
    "        steered_image = model.output.images[0].save()\n",
    "\n",
    "    # Save the steered image for review\n",
    "    steered_image_path = os.path.join(STEERED_IMAGES_DIR, f\"steered_prompt_{prompt_id}.png\")\n",
    "    steered_image.save(steered_image_path)\n",
    "    print(f\"  Steered image saved to '{steered_image_path}'\")\n",
    "\n",
    "    # Add the data to our submission list\n",
    "    img_base64 = pil_image_to_string(steered_image)\n",
    "    submission_data.append({'ID': prompt_id, 'images': img_base64})\n",
    "\n",
    "# =================================================================\n",
    "# 3. CREATE AND SAVE THE SUBMISSION FILE\n",
    "# =================================================================\n",
    "submission_df = pd.DataFrame(submission_data)\n",
    "submission_df.to_csv('submission_another_incremental.csv', index=False)\n",
    "\n",
    "print(\"\\nsubmission_final.csv file created successfully!\")\n"
   ]
  },
  {
   "cell_type": "markdown",
   "metadata": {},
   "source": [
    "Differentiated Layers Decremental"
   ]
  },
  {
   "cell_type": "code",
   "execution_count": 73,
   "metadata": {},
   "outputs": [
    {
     "name": "stdout",
     "output_type": "stream",
     "text": [
      "\n",
      "--- Generating STEERED images with a ramp from eps=2.5 to 1.8 ---\n",
      "  Processing ID 0: 'A family having a picnic in a sunny summer meadow'...\n",
      "  (injecting/enhancing winter with per-layer eps: L0:eps=2.50 L1:eps=2.47 L2:eps=2.44 L3:eps=2.40 L4:eps=2.37 L5:eps=2.34 L6:eps=2.31 L7:eps=2.28 L8:eps=2.25 L9:eps=2.21 L10:eps=2.18 L11:eps=2.15 L12:eps=2.12 L13:eps=2.09 L14:eps=2.05 L15:eps=2.02 L16:eps=1.99 L17:eps=1.96 L18:eps=1.93 L19:eps=1.90 L20:eps=1.86 L21:eps=1.83 L22:eps=1.80)...\n"
     ]
    },
    {
     "name": "stderr",
     "output_type": "stream",
     "text": [
      "100%|██████████| 50/50 [00:07<00:00,  6.82it/s]\n"
     ]
    },
    {
     "name": "stdout",
     "output_type": "stream",
     "text": [
      "  Steered image saved to 'steered_last_decremental/steered_prompt_0.png'\n",
      "  Processing ID 1: 'A close-up of ice cream melting on a hot summer day'...\n",
      "  (injecting/enhancing winter with per-layer eps: L0:eps=2.50 L1:eps=2.47 L2:eps=2.44 L3:eps=2.40 L4:eps=2.37 L5:eps=2.34 L6:eps=2.31 L7:eps=2.28 L8:eps=2.25 L9:eps=2.21 L10:eps=2.18 L11:eps=2.15 L12:eps=2.12 L13:eps=2.09 L14:eps=2.05 L15:eps=2.02 L16:eps=1.99 L17:eps=1.96 L18:eps=1.93 L19:eps=1.90 L20:eps=1.86 L21:eps=1.83 L22:eps=1.80)...\n"
     ]
    },
    {
     "name": "stderr",
     "output_type": "stream",
     "text": [
      "100%|██████████| 50/50 [00:07<00:00,  6.85it/s]\n"
     ]
    },
    {
     "name": "stdout",
     "output_type": "stream",
     "text": [
      "  Steered image saved to 'steered_last_decremental/steered_prompt_1.png'\n",
      "  Processing ID 2: 'A vibrant summer flower garden with butterflies'...\n",
      "  (injecting/enhancing winter with per-layer eps: L0:eps=2.50 L1:eps=2.47 L2:eps=2.44 L3:eps=2.40 L4:eps=2.37 L5:eps=2.34 L6:eps=2.31 L7:eps=2.28 L8:eps=2.25 L9:eps=2.21 L10:eps=2.18 L11:eps=2.15 L12:eps=2.12 L13:eps=2.09 L14:eps=2.05 L15:eps=2.02 L16:eps=1.99 L17:eps=1.96 L18:eps=1.93 L19:eps=1.90 L20:eps=1.86 L21:eps=1.83 L22:eps=1.80)...\n"
     ]
    },
    {
     "name": "stderr",
     "output_type": "stream",
     "text": [
      "100%|██████████| 50/50 [00:07<00:00,  6.85it/s]\n"
     ]
    },
    {
     "name": "stdout",
     "output_type": "stream",
     "text": [
      "  Steered image saved to 'steered_last_decremental/steered_prompt_2.png'\n",
      "  Processing ID 3: 'A person reading a book under a summer oak tree'...\n",
      "  (injecting/enhancing winter with per-layer eps: L0:eps=2.50 L1:eps=2.47 L2:eps=2.44 L3:eps=2.40 L4:eps=2.37 L5:eps=2.34 L6:eps=2.31 L7:eps=2.28 L8:eps=2.25 L9:eps=2.21 L10:eps=2.18 L11:eps=2.15 L12:eps=2.12 L13:eps=2.09 L14:eps=2.05 L15:eps=2.02 L16:eps=1.99 L17:eps=1.96 L18:eps=1.93 L19:eps=1.90 L20:eps=1.86 L21:eps=1.83 L22:eps=1.80)...\n"
     ]
    },
    {
     "name": "stderr",
     "output_type": "stream",
     "text": [
      "100%|██████████| 50/50 [00:07<00:00,  6.85it/s]\n"
     ]
    },
    {
     "name": "stdout",
     "output_type": "stream",
     "text": [
      "  Steered image saved to 'steered_last_decremental/steered_prompt_3.png'\n",
      "  Processing ID 4: 'A beach scene with summer umbrellas and waves'...\n",
      "  (injecting/enhancing winter with per-layer eps: L0:eps=2.50 L1:eps=2.47 L2:eps=2.44 L3:eps=2.40 L4:eps=2.37 L5:eps=2.34 L6:eps=2.31 L7:eps=2.28 L8:eps=2.25 L9:eps=2.21 L10:eps=2.18 L11:eps=2.15 L12:eps=2.12 L13:eps=2.09 L14:eps=2.05 L15:eps=2.02 L16:eps=1.99 L17:eps=1.96 L18:eps=1.93 L19:eps=1.90 L20:eps=1.86 L21:eps=1.83 L22:eps=1.80)...\n"
     ]
    },
    {
     "name": "stderr",
     "output_type": "stream",
     "text": [
      "100%|██████████| 50/50 [00:07<00:00,  6.86it/s]\n"
     ]
    },
    {
     "name": "stdout",
     "output_type": "stream",
     "text": [
      "  Steered image saved to 'steered_last_decremental/steered_prompt_4.png'\n",
      "  Processing ID 5: 'A yellow lemonade stand on a summer afternoon'...\n",
      "  (injecting/enhancing winter with per-layer eps: L0:eps=2.50 L1:eps=2.47 L2:eps=2.44 L3:eps=2.40 L4:eps=2.37 L5:eps=2.34 L6:eps=2.31 L7:eps=2.28 L8:eps=2.25 L9:eps=2.21 L10:eps=2.18 L11:eps=2.15 L12:eps=2.12 L13:eps=2.09 L14:eps=2.05 L15:eps=2.02 L16:eps=1.99 L17:eps=1.96 L18:eps=1.93 L19:eps=1.90 L20:eps=1.86 L21:eps=1.83 L22:eps=1.80)...\n"
     ]
    },
    {
     "name": "stderr",
     "output_type": "stream",
     "text": [
      "100%|██████████| 50/50 [00:07<00:00,  6.85it/s]\n"
     ]
    },
    {
     "name": "stdout",
     "output_type": "stream",
     "text": [
      "  Steered image saved to 'steered_last_decremental/steered_prompt_5.png'\n",
      "  Processing ID 6: 'A cyclist riding through a summer countryside road'...\n",
      "  (injecting/enhancing winter with per-layer eps: L0:eps=2.50 L1:eps=2.47 L2:eps=2.44 L3:eps=2.40 L4:eps=2.37 L5:eps=2.34 L6:eps=2.31 L7:eps=2.28 L8:eps=2.25 L9:eps=2.21 L10:eps=2.18 L11:eps=2.15 L12:eps=2.12 L13:eps=2.09 L14:eps=2.05 L15:eps=2.02 L16:eps=1.99 L17:eps=1.96 L18:eps=1.93 L19:eps=1.90 L20:eps=1.86 L21:eps=1.83 L22:eps=1.80)...\n"
     ]
    },
    {
     "name": "stderr",
     "output_type": "stream",
     "text": [
      "100%|██████████| 50/50 [00:07<00:00,  6.84it/s]\n"
     ]
    },
    {
     "name": "stdout",
     "output_type": "stream",
     "text": [
      "  Steered image saved to 'steered_last_decremental/steered_prompt_6.png'\n",
      "  Processing ID 7: 'A pair of sunglasses on a summer-tiled patio'...\n",
      "  (injecting/enhancing winter with per-layer eps: L0:eps=2.50 L1:eps=2.47 L2:eps=2.44 L3:eps=2.40 L4:eps=2.37 L5:eps=2.34 L6:eps=2.31 L7:eps=2.28 L8:eps=2.25 L9:eps=2.21 L10:eps=2.18 L11:eps=2.15 L12:eps=2.12 L13:eps=2.09 L14:eps=2.05 L15:eps=2.02 L16:eps=1.99 L17:eps=1.96 L18:eps=1.93 L19:eps=1.90 L20:eps=1.86 L21:eps=1.83 L22:eps=1.80)...\n"
     ]
    },
    {
     "name": "stderr",
     "output_type": "stream",
     "text": [
      "100%|██████████| 50/50 [00:07<00:00,  6.83it/s]\n"
     ]
    },
    {
     "name": "stdout",
     "output_type": "stream",
     "text": [
      "  Steered image saved to 'steered_last_decremental/steered_prompt_7.png'\n",
      "  Processing ID 8: 'A summer farmer’s market with fresh fruits on display'...\n",
      "  (injecting/enhancing winter with per-layer eps: L0:eps=2.50 L1:eps=2.47 L2:eps=2.44 L3:eps=2.40 L4:eps=2.37 L5:eps=2.34 L6:eps=2.31 L7:eps=2.28 L8:eps=2.25 L9:eps=2.21 L10:eps=2.18 L11:eps=2.15 L12:eps=2.12 L13:eps=2.09 L14:eps=2.05 L15:eps=2.02 L16:eps=1.99 L17:eps=1.96 L18:eps=1.93 L19:eps=1.90 L20:eps=1.86 L21:eps=1.83 L22:eps=1.80)...\n"
     ]
    },
    {
     "name": "stderr",
     "output_type": "stream",
     "text": [
      "100%|██████████| 50/50 [00:07<00:00,  6.88it/s]\n"
     ]
    },
    {
     "name": "stdout",
     "output_type": "stream",
     "text": [
      "  Steered image saved to 'steered_last_decremental/steered_prompt_8.png'\n",
      "  Processing ID 9: 'A hammock strung between two trees in summer'...\n",
      "  (injecting/enhancing winter with per-layer eps: L0:eps=2.50 L1:eps=2.47 L2:eps=2.44 L3:eps=2.40 L4:eps=2.37 L5:eps=2.34 L6:eps=2.31 L7:eps=2.28 L8:eps=2.25 L9:eps=2.21 L10:eps=2.18 L11:eps=2.15 L12:eps=2.12 L13:eps=2.09 L14:eps=2.05 L15:eps=2.02 L16:eps=1.99 L17:eps=1.96 L18:eps=1.93 L19:eps=1.90 L20:eps=1.86 L21:eps=1.83 L22:eps=1.80)...\n"
     ]
    },
    {
     "name": "stderr",
     "output_type": "stream",
     "text": [
      "100%|██████████| 50/50 [00:07<00:00,  6.78it/s]\n"
     ]
    },
    {
     "name": "stdout",
     "output_type": "stream",
     "text": [
      "  Steered image saved to 'steered_last_decremental/steered_prompt_9.png'\n",
      "  Processing ID 10: 'A street musician playing guitar on a summer evening'...\n",
      "  (injecting/enhancing winter with per-layer eps: L0:eps=2.50 L1:eps=2.47 L2:eps=2.44 L3:eps=2.40 L4:eps=2.37 L5:eps=2.34 L6:eps=2.31 L7:eps=2.28 L8:eps=2.25 L9:eps=2.21 L10:eps=2.18 L11:eps=2.15 L12:eps=2.12 L13:eps=2.09 L14:eps=2.05 L15:eps=2.02 L16:eps=1.99 L17:eps=1.96 L18:eps=1.93 L19:eps=1.90 L20:eps=1.86 L21:eps=1.83 L22:eps=1.80)...\n"
     ]
    },
    {
     "name": "stderr",
     "output_type": "stream",
     "text": [
      "100%|██████████| 50/50 [00:07<00:00,  6.80it/s]\n"
     ]
    },
    {
     "name": "stdout",
     "output_type": "stream",
     "text": [
      "  Steered image saved to 'steered_last_decremental/steered_prompt_10.png'\n",
      "  Processing ID 11: 'A summer pool party with colorful floats'...\n",
      "  (injecting/enhancing winter with per-layer eps: L0:eps=2.50 L1:eps=2.47 L2:eps=2.44 L3:eps=2.40 L4:eps=2.37 L5:eps=2.34 L6:eps=2.31 L7:eps=2.28 L8:eps=2.25 L9:eps=2.21 L10:eps=2.18 L11:eps=2.15 L12:eps=2.12 L13:eps=2.09 L14:eps=2.05 L15:eps=2.02 L16:eps=1.99 L17:eps=1.96 L18:eps=1.93 L19:eps=1.90 L20:eps=1.86 L21:eps=1.83 L22:eps=1.80)...\n"
     ]
    },
    {
     "name": "stderr",
     "output_type": "stream",
     "text": [
      "100%|██████████| 50/50 [00:07<00:00,  6.82it/s]\n"
     ]
    },
    {
     "name": "stdout",
     "output_type": "stream",
     "text": [
      "  Steered image saved to 'steered_last_decremental/steered_prompt_11.png'\n",
      "  Processing ID 12: 'A close-up of dewy grass on a summer morning'...\n",
      "  (injecting/enhancing winter with per-layer eps: L0:eps=2.50 L1:eps=2.47 L2:eps=2.44 L3:eps=2.40 L4:eps=2.37 L5:eps=2.34 L6:eps=2.31 L7:eps=2.28 L8:eps=2.25 L9:eps=2.21 L10:eps=2.18 L11:eps=2.15 L12:eps=2.12 L13:eps=2.09 L14:eps=2.05 L15:eps=2.02 L16:eps=1.99 L17:eps=1.96 L18:eps=1.93 L19:eps=1.90 L20:eps=1.86 L21:eps=1.83 L22:eps=1.80)...\n"
     ]
    },
    {
     "name": "stderr",
     "output_type": "stream",
     "text": [
      "100%|██████████| 50/50 [00:07<00:00,  6.73it/s]\n"
     ]
    },
    {
     "name": "stdout",
     "output_type": "stream",
     "text": [
      "  Steered image saved to 'steered_last_decremental/steered_prompt_12.png'\n",
      "  Processing ID 13: 'A row of beach chairs facing the summer sea'...\n",
      "  (injecting/enhancing winter with per-layer eps: L0:eps=2.50 L1:eps=2.47 L2:eps=2.44 L3:eps=2.40 L4:eps=2.37 L5:eps=2.34 L6:eps=2.31 L7:eps=2.28 L8:eps=2.25 L9:eps=2.21 L10:eps=2.18 L11:eps=2.15 L12:eps=2.12 L13:eps=2.09 L14:eps=2.05 L15:eps=2.02 L16:eps=1.99 L17:eps=1.96 L18:eps=1.93 L19:eps=1.90 L20:eps=1.86 L21:eps=1.83 L22:eps=1.80)...\n"
     ]
    },
    {
     "name": "stderr",
     "output_type": "stream",
     "text": [
      "100%|██████████| 50/50 [00:07<00:00,  6.73it/s]\n"
     ]
    },
    {
     "name": "stdout",
     "output_type": "stream",
     "text": [
      "  Steered image saved to 'steered_last_decremental/steered_prompt_13.png'\n",
      "  Processing ID 14: 'A picnic basket on a summer blanket in the park'...\n",
      "  (injecting/enhancing winter with per-layer eps: L0:eps=2.50 L1:eps=2.47 L2:eps=2.44 L3:eps=2.40 L4:eps=2.37 L5:eps=2.34 L6:eps=2.31 L7:eps=2.28 L8:eps=2.25 L9:eps=2.21 L10:eps=2.18 L11:eps=2.15 L12:eps=2.12 L13:eps=2.09 L14:eps=2.05 L15:eps=2.02 L16:eps=1.99 L17:eps=1.96 L18:eps=1.93 L19:eps=1.90 L20:eps=1.86 L21:eps=1.83 L22:eps=1.80)...\n"
     ]
    },
    {
     "name": "stderr",
     "output_type": "stream",
     "text": [
      "100%|██████████| 50/50 [00:07<00:00,  6.75it/s]\n"
     ]
    },
    {
     "name": "stdout",
     "output_type": "stream",
     "text": [
      "  Steered image saved to 'steered_last_decremental/steered_prompt_14.png'\n",
      "  Processing ID 15: 'A family splashing in a summer river'...\n",
      "  (injecting/enhancing winter with per-layer eps: L0:eps=2.50 L1:eps=2.47 L2:eps=2.44 L3:eps=2.40 L4:eps=2.37 L5:eps=2.34 L6:eps=2.31 L7:eps=2.28 L8:eps=2.25 L9:eps=2.21 L10:eps=2.18 L11:eps=2.15 L12:eps=2.12 L13:eps=2.09 L14:eps=2.05 L15:eps=2.02 L16:eps=1.99 L17:eps=1.96 L18:eps=1.93 L19:eps=1.90 L20:eps=1.86 L21:eps=1.83 L22:eps=1.80)...\n"
     ]
    },
    {
     "name": "stderr",
     "output_type": "stream",
     "text": [
      "100%|██████████| 50/50 [00:07<00:00,  6.86it/s]\n"
     ]
    },
    {
     "name": "stdout",
     "output_type": "stream",
     "text": [
      "  Steered image saved to 'steered_last_decremental/steered_prompt_15.png'\n",
      "  Processing ID 16: 'A summer carnival with bright lights at dusk'...\n",
      "  (injecting/enhancing winter with per-layer eps: L0:eps=2.50 L1:eps=2.47 L2:eps=2.44 L3:eps=2.40 L4:eps=2.37 L5:eps=2.34 L6:eps=2.31 L7:eps=2.28 L8:eps=2.25 L9:eps=2.21 L10:eps=2.18 L11:eps=2.15 L12:eps=2.12 L13:eps=2.09 L14:eps=2.05 L15:eps=2.02 L16:eps=1.99 L17:eps=1.96 L18:eps=1.93 L19:eps=1.90 L20:eps=1.86 L21:eps=1.83 L22:eps=1.80)...\n"
     ]
    },
    {
     "name": "stderr",
     "output_type": "stream",
     "text": [
      "100%|██████████| 50/50 [00:07<00:00,  6.89it/s]\n"
     ]
    },
    {
     "name": "stdout",
     "output_type": "stream",
     "text": [
      "  Steered image saved to 'steered_last_decremental/steered_prompt_16.png'\n",
      "  Processing ID 17: 'A child running through a summer sprinkler'...\n",
      "  (injecting/enhancing winter with per-layer eps: L0:eps=2.50 L1:eps=2.47 L2:eps=2.44 L3:eps=2.40 L4:eps=2.37 L5:eps=2.34 L6:eps=2.31 L7:eps=2.28 L8:eps=2.25 L9:eps=2.21 L10:eps=2.18 L11:eps=2.15 L12:eps=2.12 L13:eps=2.09 L14:eps=2.05 L15:eps=2.02 L16:eps=1.99 L17:eps=1.96 L18:eps=1.93 L19:eps=1.90 L20:eps=1.86 L21:eps=1.83 L22:eps=1.80)...\n"
     ]
    },
    {
     "name": "stderr",
     "output_type": "stream",
     "text": [
      "100%|██████████| 50/50 [00:07<00:00,  6.89it/s]\n"
     ]
    },
    {
     "name": "stdout",
     "output_type": "stream",
     "text": [
      "  Steered image saved to 'steered_last_decremental/steered_prompt_17.png'\n",
      "  Processing ID 18: 'A summer sunset over a calm lake'...\n",
      "  (injecting/enhancing winter with per-layer eps: L0:eps=2.50 L1:eps=2.47 L2:eps=2.44 L3:eps=2.40 L4:eps=2.37 L5:eps=2.34 L6:eps=2.31 L7:eps=2.28 L8:eps=2.25 L9:eps=2.21 L10:eps=2.18 L11:eps=2.15 L12:eps=2.12 L13:eps=2.09 L14:eps=2.05 L15:eps=2.02 L16:eps=1.99 L17:eps=1.96 L18:eps=1.93 L19:eps=1.90 L20:eps=1.86 L21:eps=1.83 L22:eps=1.80)...\n"
     ]
    },
    {
     "name": "stderr",
     "output_type": "stream",
     "text": [
      "100%|██████████| 50/50 [00:07<00:00,  6.89it/s]\n"
     ]
    },
    {
     "name": "stdout",
     "output_type": "stream",
     "text": [
      "  Steered image saved to 'steered_last_decremental/steered_prompt_18.png'\n",
      "  Processing ID 19: 'A pair of flip-flops on hot summer sand'...\n",
      "  (injecting/enhancing winter with per-layer eps: L0:eps=2.50 L1:eps=2.47 L2:eps=2.44 L3:eps=2.40 L4:eps=2.37 L5:eps=2.34 L6:eps=2.31 L7:eps=2.28 L8:eps=2.25 L9:eps=2.21 L10:eps=2.18 L11:eps=2.15 L12:eps=2.12 L13:eps=2.09 L14:eps=2.05 L15:eps=2.02 L16:eps=1.99 L17:eps=1.96 L18:eps=1.93 L19:eps=1.90 L20:eps=1.86 L21:eps=1.83 L22:eps=1.80)...\n"
     ]
    },
    {
     "name": "stderr",
     "output_type": "stream",
     "text": [
      "100%|██████████| 50/50 [00:07<00:00,  6.89it/s]\n"
     ]
    },
    {
     "name": "stdout",
     "output_type": "stream",
     "text": [
      "  Steered image saved to 'steered_last_decremental/steered_prompt_19.png'\n",
      "  Processing ID 20: 'A couple dancing barefoot at a summer barn wedding'...\n",
      "  (injecting/enhancing winter with per-layer eps: L0:eps=2.50 L1:eps=2.47 L2:eps=2.44 L3:eps=2.40 L4:eps=2.37 L5:eps=2.34 L6:eps=2.31 L7:eps=2.28 L8:eps=2.25 L9:eps=2.21 L10:eps=2.18 L11:eps=2.15 L12:eps=2.12 L13:eps=2.09 L14:eps=2.05 L15:eps=2.02 L16:eps=1.99 L17:eps=1.96 L18:eps=1.93 L19:eps=1.90 L20:eps=1.86 L21:eps=1.83 L22:eps=1.80)...\n"
     ]
    },
    {
     "name": "stderr",
     "output_type": "stream",
     "text": [
      "100%|██████████| 50/50 [00:07<00:00,  6.88it/s]\n"
     ]
    },
    {
     "name": "stdout",
     "output_type": "stream",
     "text": [
      "  Steered image saved to 'steered_last_decremental/steered_prompt_20.png'\n",
      "  Processing ID 21: 'A golden retriever chasing a Frisbee in a summer park'...\n",
      "  (injecting/enhancing winter with per-layer eps: L0:eps=2.50 L1:eps=2.47 L2:eps=2.44 L3:eps=2.40 L4:eps=2.37 L5:eps=2.34 L6:eps=2.31 L7:eps=2.28 L8:eps=2.25 L9:eps=2.21 L10:eps=2.18 L11:eps=2.15 L12:eps=2.12 L13:eps=2.09 L14:eps=2.05 L15:eps=2.02 L16:eps=1.99 L17:eps=1.96 L18:eps=1.93 L19:eps=1.90 L20:eps=1.86 L21:eps=1.83 L22:eps=1.80)...\n"
     ]
    },
    {
     "name": "stderr",
     "output_type": "stream",
     "text": [
      "100%|██████████| 50/50 [00:07<00:00,  6.87it/s]\n"
     ]
    },
    {
     "name": "stdout",
     "output_type": "stream",
     "text": [
      "  Steered image saved to 'steered_last_decremental/steered_prompt_21.png'\n",
      "  Processing ID 22: 'A rustic wooden pier extending into a summer lake at dawn'...\n",
      "  (injecting/enhancing winter with per-layer eps: L0:eps=2.50 L1:eps=2.47 L2:eps=2.44 L3:eps=2.40 L4:eps=2.37 L5:eps=2.34 L6:eps=2.31 L7:eps=2.28 L8:eps=2.25 L9:eps=2.21 L10:eps=2.18 L11:eps=2.15 L12:eps=2.12 L13:eps=2.09 L14:eps=2.05 L15:eps=2.02 L16:eps=1.99 L17:eps=1.96 L18:eps=1.93 L19:eps=1.90 L20:eps=1.86 L21:eps=1.83 L22:eps=1.80)...\n"
     ]
    },
    {
     "name": "stderr",
     "output_type": "stream",
     "text": [
      "100%|██████████| 50/50 [00:07<00:00,  6.86it/s]\n"
     ]
    },
    {
     "name": "stdout",
     "output_type": "stream",
     "text": [
      "  Steered image saved to 'steered_last_decremental/steered_prompt_22.png'\n",
      "  Processing ID 23: 'A child blowing soap bubbles in a sunny backyard'...\n",
      "  (injecting/enhancing winter with per-layer eps: L0:eps=2.50 L1:eps=2.47 L2:eps=2.44 L3:eps=2.40 L4:eps=2.37 L5:eps=2.34 L6:eps=2.31 L7:eps=2.28 L8:eps=2.25 L9:eps=2.21 L10:eps=2.18 L11:eps=2.15 L12:eps=2.12 L13:eps=2.09 L14:eps=2.05 L15:eps=2.02 L16:eps=1.99 L17:eps=1.96 L18:eps=1.93 L19:eps=1.90 L20:eps=1.86 L21:eps=1.83 L22:eps=1.80)...\n"
     ]
    },
    {
     "name": "stderr",
     "output_type": "stream",
     "text": [
      "100%|██████████| 50/50 [00:07<00:00,  6.79it/s]\n"
     ]
    },
    {
     "name": "stdout",
     "output_type": "stream",
     "text": [
      "  Steered image saved to 'steered_last_decremental/steered_prompt_23.png'\n",
      "  Processing ID 24: 'A traveler with a backpack watching a summer mountain vista'...\n",
      "  (injecting/enhancing winter with per-layer eps: L0:eps=2.50 L1:eps=2.47 L2:eps=2.44 L3:eps=2.40 L4:eps=2.37 L5:eps=2.34 L6:eps=2.31 L7:eps=2.28 L8:eps=2.25 L9:eps=2.21 L10:eps=2.18 L11:eps=2.15 L12:eps=2.12 L13:eps=2.09 L14:eps=2.05 L15:eps=2.02 L16:eps=1.99 L17:eps=1.96 L18:eps=1.93 L19:eps=1.90 L20:eps=1.86 L21:eps=1.83 L22:eps=1.80)...\n"
     ]
    },
    {
     "name": "stderr",
     "output_type": "stream",
     "text": [
      "100%|██████████| 50/50 [00:07<00:00,  6.81it/s]\n"
     ]
    },
    {
     "name": "stdout",
     "output_type": "stream",
     "text": [
      "  Steered image saved to 'steered_last_decremental/steered_prompt_24.png'\n",
      "  Processing ID 25: 'A picnic table under a blossoming cherry tree in June'...\n",
      "  (injecting/enhancing winter with per-layer eps: L0:eps=2.50 L1:eps=2.47 L2:eps=2.44 L3:eps=2.40 L4:eps=2.37 L5:eps=2.34 L6:eps=2.31 L7:eps=2.28 L8:eps=2.25 L9:eps=2.21 L10:eps=2.18 L11:eps=2.15 L12:eps=2.12 L13:eps=2.09 L14:eps=2.05 L15:eps=2.02 L16:eps=1.99 L17:eps=1.96 L18:eps=1.93 L19:eps=1.90 L20:eps=1.86 L21:eps=1.83 L22:eps=1.80)...\n"
     ]
    },
    {
     "name": "stderr",
     "output_type": "stream",
     "text": [
      "100%|██████████| 50/50 [00:07<00:00,  6.81it/s]\n"
     ]
    },
    {
     "name": "stdout",
     "output_type": "stream",
     "text": [
      "  Steered image saved to 'steered_last_decremental/steered_prompt_25.png'\n",
      "  Processing ID 26: 'A field of sunflowers swaying in the summer breeze'...\n",
      "  (injecting/enhancing winter with per-layer eps: L0:eps=2.50 L1:eps=2.47 L2:eps=2.44 L3:eps=2.40 L4:eps=2.37 L5:eps=2.34 L6:eps=2.31 L7:eps=2.28 L8:eps=2.25 L9:eps=2.21 L10:eps=2.18 L11:eps=2.15 L12:eps=2.12 L13:eps=2.09 L14:eps=2.05 L15:eps=2.02 L16:eps=1.99 L17:eps=1.96 L18:eps=1.93 L19:eps=1.90 L20:eps=1.86 L21:eps=1.83 L22:eps=1.80)...\n"
     ]
    },
    {
     "name": "stderr",
     "output_type": "stream",
     "text": [
      "100%|██████████| 50/50 [00:07<00:00,  6.75it/s]\n"
     ]
    },
    {
     "name": "stdout",
     "output_type": "stream",
     "text": [
      "  Steered image saved to 'steered_last_decremental/steered_prompt_26.png'\n",
      "  Processing ID 27: 'A seaside boardwalk lined with food stalls on a hot day'...\n",
      "  (injecting/enhancing winter with per-layer eps: L0:eps=2.50 L1:eps=2.47 L2:eps=2.44 L3:eps=2.40 L4:eps=2.37 L5:eps=2.34 L6:eps=2.31 L7:eps=2.28 L8:eps=2.25 L9:eps=2.21 L10:eps=2.18 L11:eps=2.15 L12:eps=2.12 L13:eps=2.09 L14:eps=2.05 L15:eps=2.02 L16:eps=1.99 L17:eps=1.96 L18:eps=1.93 L19:eps=1.90 L20:eps=1.86 L21:eps=1.83 L22:eps=1.80)...\n"
     ]
    },
    {
     "name": "stderr",
     "output_type": "stream",
     "text": [
      "100%|██████████| 50/50 [00:07<00:00,  6.86it/s]\n"
     ]
    },
    {
     "name": "stdout",
     "output_type": "stream",
     "text": [
      "  Steered image saved to 'steered_last_decremental/steered_prompt_27.png'\n",
      "  Processing ID 28: 'A beach volleyball game under a clear blue sky'...\n",
      "  (injecting/enhancing winter with per-layer eps: L0:eps=2.50 L1:eps=2.47 L2:eps=2.44 L3:eps=2.40 L4:eps=2.37 L5:eps=2.34 L6:eps=2.31 L7:eps=2.28 L8:eps=2.25 L9:eps=2.21 L10:eps=2.18 L11:eps=2.15 L12:eps=2.12 L13:eps=2.09 L14:eps=2.05 L15:eps=2.02 L16:eps=1.99 L17:eps=1.96 L18:eps=1.93 L19:eps=1.90 L20:eps=1.86 L21:eps=1.83 L22:eps=1.80)...\n"
     ]
    },
    {
     "name": "stderr",
     "output_type": "stream",
     "text": [
      "100%|██████████| 50/50 [00:07<00:00,  6.83it/s]\n"
     ]
    },
    {
     "name": "stdout",
     "output_type": "stream",
     "text": [
      "  Steered image saved to 'steered_last_decremental/steered_prompt_28.png'\n",
      "  Processing ID 29: 'A summer rain shower over a quiet country road'...\n",
      "  (injecting/enhancing winter with per-layer eps: L0:eps=2.50 L1:eps=2.47 L2:eps=2.44 L3:eps=2.40 L4:eps=2.37 L5:eps=2.34 L6:eps=2.31 L7:eps=2.28 L8:eps=2.25 L9:eps=2.21 L10:eps=2.18 L11:eps=2.15 L12:eps=2.12 L13:eps=2.09 L14:eps=2.05 L15:eps=2.02 L16:eps=1.99 L17:eps=1.96 L18:eps=1.93 L19:eps=1.90 L20:eps=1.86 L21:eps=1.83 L22:eps=1.80)...\n"
     ]
    },
    {
     "name": "stderr",
     "output_type": "stream",
     "text": [
      "100%|██████████| 50/50 [00:07<00:00,  6.88it/s]\n"
     ]
    },
    {
     "name": "stdout",
     "output_type": "stream",
     "text": [
      "  Steered image saved to 'steered_last_decremental/steered_prompt_29.png'\n",
      "\n",
      "submission_final_decremental.csv file created successfully!\n"
     ]
    }
   ],
   "source": [
    "import os\n",
    "import pandas as pd\n",
    "import numpy as np\n",
    "import gc\n",
    "\n",
    "# =================================================================\n",
    "# 1. SETUP: Define the final epsilon values per layer\n",
    "# =================================================================\n",
    "# Initialize an empty list to store the submission data.\n",
    "submission_data = []\n",
    "\n",
    "# --- Parameters for generating the decremental epsilon values ---\n",
    "num_layers = 23      # The text encoder has 23 layers (0-22)\n",
    "start_eps = 2.5      # The final strength for the first layer (layer 0)\n",
    "end_eps = 1.8        # The final strength for the last layer (layer 22)\n",
    "\n",
    "# --- Generate the list of final epsilon values ---\n",
    "# This list will now ramp down from 2.5 to 1.0.\n",
    "final_eps_per_layer = np.linspace(start_eps, end_eps, num_layers).tolist()\n",
    "\n",
    "# Load the official prompts\n",
    "prompts_df = pd.read_csv('prompts.csv')\n",
    "\n",
    "# =================================================================\n",
    "# 2. GENERATE THE FINAL SUBMISSION IMAGES\n",
    "# =================================================================\n",
    "print(f\"\\n--- Generating STEERED images with a ramp from eps={start_eps} to {end_eps} ---\")\n",
    "STEERED_IMAGES_DIR = \"steered_last_decremental\"\n",
    "os.makedirs(STEERED_IMAGES_DIR, exist_ok=True)\n",
    "\n",
    "for index, row in prompts_df.iterrows():\n",
    "    target_prompt = row['prompt']\n",
    "    prompt_id = row['ID']\n",
    "\n",
    "    # This list will store the description of the steering for logging\n",
    "    steering_type_description_parts = []\n",
    "\n",
    "    print(f\"  Processing ID {prompt_id}: '{target_prompt}'...\")\n",
    "    with model.generate(target_prompt, seed=SEED):\n",
    "        # Iterate through each layer of the model's text encoder\n",
    "        for layer_idx, layer in enumerate(model.text_encoder.text_model.encoder.layers):\n",
    "            \n",
    "            # Get the final epsilon value for the current layer directly from our list\n",
    "            current_layer_eps = final_eps_per_layer[layer_idx]\n",
    "\n",
    "            # Get the steering vector slice for the current layer\n",
    "            steering_vector_for_this_layer = steering_vector[layer_idx]\n",
    "            \n",
    "            # Apply the steering with the correct epsilon for this layer\n",
    "            layer.mlp.output = layer.mlp.output + (steering_vector_for_this_layer.to(layer.mlp.output.device) * current_layer_eps)\n",
    "\n",
    "            # Add this layer's effective epsilon to the description for logging\n",
    "            steering_type_description_parts.append(f\"L{layer_idx}:eps={current_layer_eps:.2f}\")\n",
    "\n",
    "        # Construct the full steering type description for logging\n",
    "        steering_type = f\"injecting/enhancing winter with per-layer eps: {' '.join(steering_type_description_parts)}\"\n",
    "        print(f\"  ({steering_type})...\")\n",
    "        steered_image = model.output.images[0].save()\n",
    "\n",
    "    # Save the steered image for review\n",
    "    steered_image_path = os.path.join(STEERED_IMAGES_DIR, f\"steered_prompt_{prompt_id}.png\")\n",
    "    steered_image.save(steered_image_path)\n",
    "    print(f\"  Steered image saved to '{steered_image_path}'\")\n",
    "\n",
    "    # Add the data to our submission list\n",
    "    img_base64 = pil_image_to_string(steered_image)\n",
    "    submission_data.append({'ID': prompt_id, 'images': img_base64})\n",
    "    \n",
    "    # Force memory cleanup\n",
    "    torch.cuda.empty_cache()\n",
    "    gc.collect()\n",
    "\n",
    "# =================================================================\n",
    "# 3. CREATE AND SAVE THE SUBMISSION FILE\n",
    "# =================================================================\n",
    "submission_df = pd.DataFrame(submission_data)\n",
    "submission_df.to_csv('submission_last_decremental.csv', index=False)\n",
    "\n",
    "print(\"\\nsubmission_final_decremental.csv file created successfully!\")\n"
   ]
  }
 ],
 "metadata": {
  "kaggle": {
   "accelerator": "gpu",
   "dataSources": [
    {
     "datasetId": 7882071,
     "sourceId": 12490411,
     "sourceType": "datasetVersion"
    }
   ],
   "dockerImageVersionId": 31090,
   "isGpuEnabled": true,
   "isInternetEnabled": true,
   "language": "python",
   "sourceType": "notebook"
  },
  "kernelspec": {
   "display_name": "py_3.12",
   "language": "python",
   "name": "python3"
  },
  "language_info": {
   "codemirror_mode": {
    "name": "ipython",
    "version": 3
   },
   "file_extension": ".py",
   "mimetype": "text/x-python",
   "name": "python",
   "nbconvert_exporter": "python",
   "pygments_lexer": "ipython3",
   "version": "3.12.10"
  }
 },
 "nbformat": 4,
 "nbformat_minor": 4
}
